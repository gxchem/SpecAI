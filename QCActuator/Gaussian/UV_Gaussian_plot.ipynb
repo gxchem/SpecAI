{
 "cells": [
  {
   "cell_type": "code",
   "execution_count": null,
   "id": "3664b633-c832-4171-955f-2a14811fadb4",
   "metadata": {},
   "outputs": [],
   "source": [
    "# example_notebook.ipynb\n",
    "from Gaussian_tools import GaussianNotebookCalculator, GaussianConfig"
   ]
  },
  {
   "cell_type": "code",
   "execution_count": null,
   "id": "6d7345a9-f5e3-4654-a38f-b0f73170fb22",
   "metadata": {},
   "outputs": [],
   "source": [
    "XC = 'B3LYP'\n",
    "Basis = '6-31G'\n",
    "Nroot = 3\n",
    "Charge = 0\n",
    "Multiplicity = 1\n",
    "Geom = '''\n",
    "C  1.29014502  -0.00000000  -0.72072889  \n",
    "C  0.00000000  0.00000000  0.07701340  \n",
    "C  -1.29014502  -0.00000000  -0.72072889  \n",
    "O  0.00000000  0.00000000  1.29570905  \n",
    "H  -2.15098489  -0.00000000  -0.04550817  \n",
    "H  -1.33345511  0.88156093  -1.37731159  \n",
    "H  -1.33345511  -0.88156093  -1.37731159  \n",
    "H  1.33345511  0.88156093  -1.37731159  \n",
    "H  2.15098489  -0.00000000  -0.04550817  \n",
    "H  1.33345511  -0.88156093  -1.37731159  \n",
    "'''"
   ]
  },
  {
   "cell_type": "code",
   "execution_count": null,
   "id": "8e6da53a-6d94-4719-8e61-77b6fc0037e6",
   "metadata": {},
   "outputs": [],
   "source": [
    "# Set up a calculator with a specific working directory with work_dir\n",
    "config = GaussianConfig(\n",
    "    work_dir=None,\n",
    "    verbose=False\n",
    ")\n",
    "\n",
    "with GaussianNotebookCalculator(config=config, gaussian_path = \"/work/share/yanggk/G16/g16/\") as calc:\n",
    "    # Run calculation\n",
    "    input_content = calc.generate_input(\n",
    "        xc=XC,\n",
    "        basis=Basis,\n",
    "        nroot=Nroot,\n",
    "        charge=Charge,\n",
    "        multiplicity=Multiplicity,\n",
    "        title = 'UV spectrum of acetone',\n",
    "        geometry=Geom\n",
    "    )\n",
    "\n",
    "    inp_file, out_file = calc.run_calculation(input_content)\n",
    "\n",
    "    # Extract excitations\n",
    "    excitations = calc.extract_excitations(out_file)\n",
    "    \n",
    "    # Plot spectrum\n",
    "    calc.plot_spectrum(excitations)\n",
    "    \n",
    "    # Optionally save everything to a permanent location\n",
    "    #calc.save_working_dir(\"./permanent_results\")"
   ]
  },
  {
   "cell_type": "code",
   "execution_count": null,
   "id": "ebe4e58d-9842-4c03-9814-7a80258c5e9f",
   "metadata": {},
   "outputs": [],
   "source": []
  },
  {
   "cell_type": "code",
   "execution_count": null,
   "id": "be69297b-90e1-4ebe-9217-602cc157edc7",
   "metadata": {},
   "outputs": [],
   "source": []
  }
 ],
 "metadata": {
  "kernelspec": {
   "display_name": "Python 3 (ipykernel)",
   "language": "python",
   "name": "python3"
  },
  "language_info": {
   "codemirror_mode": {
    "name": "ipython",
    "version": 3
   },
   "file_extension": ".py",
   "mimetype": "text/x-python",
   "name": "python",
   "nbconvert_exporter": "python",
   "pygments_lexer": "ipython3",
   "version": "3.12.4"
  }
 },
 "nbformat": 4,
 "nbformat_minor": 5
}
