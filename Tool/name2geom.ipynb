{
 "cells": [
  {
   "cell_type": "code",
   "execution_count": 1,
   "id": "525fc677",
   "metadata": {},
   "outputs": [],
   "source": [
    "import numpy as np\n",
    "import pandas as pd\n",
    "from rdkit import Chem\n",
    "from rdkit.Chem import AllChem\n",
    "\n",
    "mol = Chem.MolFromSmiles('ClCCl')  \n",
    "mol = Chem.AddHs(mol)\n",
    "AllChem.EmbedMolecule(mol)\n",
    "AllChem.MMFFOptimizeMolecule(mol)\n",
    "Chem.MolToXYZFile(mol,\"test.xyz\")"
   ]
  },
  {
   "cell_type": "code",
   "execution_count": 3,
   "id": "c908e5d9",
   "metadata": {},
   "outputs": [
    {
     "name": "stdout",
     "output_type": "stream",
     "text": [
      "5\r\n",
      "\r\n",
      "Cl     1.457915    0.850485    0.020384\r\n",
      "C     -0.000186   -0.147919    0.005132\r\n",
      "Cl    -1.455777    0.850685   -0.079399\r\n",
      "H      0.029585   -0.807624   -0.865497\r\n",
      "H     -0.031536   -0.745627    0.919381\r\n"
     ]
    }
   ],
   "source": [
    "! tail test.xyz"
   ]
  },
  {
   "cell_type": "code",
   "execution_count": 4,
   "id": "40818016",
   "metadata": {},
   "outputs": [
    {
     "data": {
      "application/3dmoljs_load.v0": "<div id=\"3dmolviewer_1735627562585616\"  style=\"position: relative; width: 640px; height: 480px;\">\n        <p id=\"3dmolwarning_1735627562585616\" style=\"background-color:#ffcccc;color:black\">3Dmol.js failed to load for some reason.  Please check your browser console for error messages.<br></p>\n        </div>\n<script>\n\nvar loadScriptAsync = function(uri){\n  return new Promise((resolve, reject) => {\n    //this is to ignore the existence of requirejs amd\n    var savedexports, savedmodule;\n    if (typeof exports !== 'undefined') savedexports = exports;\n    else exports = {}\n    if (typeof module !== 'undefined') savedmodule = module;\n    else module = {}\n\n    var tag = document.createElement('script');\n    tag.src = uri;\n    tag.async = true;\n    tag.onload = () => {\n        exports = savedexports;\n        module = savedmodule;\n        resolve();\n    };\n  var firstScriptTag = document.getElementsByTagName('script')[0];\n  firstScriptTag.parentNode.insertBefore(tag, firstScriptTag);\n});\n};\n\nif(typeof $3Dmolpromise === 'undefined') {\n$3Dmolpromise = null;\n  $3Dmolpromise = loadScriptAsync('https://cdnjs.cloudflare.com/ajax/libs/3Dmol/2.4.2/3Dmol-min.js');\n}\n\nvar viewer_1735627562585616 = null;\nvar warn = document.getElementById(\"3dmolwarning_1735627562585616\");\nif(warn) {\n    warn.parentNode.removeChild(warn);\n}\n$3Dmolpromise.then(function() {\nviewer_1735627562585616 = $3Dmol.createViewer(document.getElementById(\"3dmolviewer_1735627562585616\"),{backgroundColor:\"white\"});\nviewer_1735627562585616.addModel(\"\\n     RDKit          3D\\n\\n  5  4  0  0  0  0  0  0  0  0999 V2000\\n    1.4579    0.8505    0.0204 Cl  0  0  0  0  0  0  0  0  0  0  0  0\\n   -0.0002   -0.1479    0.0051 C   0  0  0  0  0  0  0  0  0  0  0  0\\n   -1.4558    0.8507   -0.0794 Cl  0  0  0  0  0  0  0  0  0  0  0  0\\n    0.0296   -0.8076   -0.8655 H   0  0  0  0  0  0  0  0  0  0  0  0\\n   -0.0315   -0.7456    0.9194 H   0  0  0  0  0  0  0  0  0  0  0  0\\n  1  2  1  0\\n  2  3  1  0\\n  2  4  1  0\\n  2  5  1  0\\nM  END\\n\");\nviewer_1735627562585616.setStyle({\"stick\": {}, \"sphere\": {\"scale\": 0.3}});\nviewer_1735627562585616.zoomTo();\n\tviewer_1735627562585616.zoomTo();\nviewer_1735627562585616.render();\n});\n</script>",
      "text/html": [
       "<div id=\"3dmolviewer_1735627562585616\"  style=\"position: relative; width: 640px; height: 480px;\">\n",
       "        <p id=\"3dmolwarning_1735627562585616\" style=\"background-color:#ffcccc;color:black\">3Dmol.js failed to load for some reason.  Please check your browser console for error messages.<br></p>\n",
       "        </div>\n",
       "<script>\n",
       "\n",
       "var loadScriptAsync = function(uri){\n",
       "  return new Promise((resolve, reject) => {\n",
       "    //this is to ignore the existence of requirejs amd\n",
       "    var savedexports, savedmodule;\n",
       "    if (typeof exports !== 'undefined') savedexports = exports;\n",
       "    else exports = {}\n",
       "    if (typeof module !== 'undefined') savedmodule = module;\n",
       "    else module = {}\n",
       "\n",
       "    var tag = document.createElement('script');\n",
       "    tag.src = uri;\n",
       "    tag.async = true;\n",
       "    tag.onload = () => {\n",
       "        exports = savedexports;\n",
       "        module = savedmodule;\n",
       "        resolve();\n",
       "    };\n",
       "  var firstScriptTag = document.getElementsByTagName('script')[0];\n",
       "  firstScriptTag.parentNode.insertBefore(tag, firstScriptTag);\n",
       "});\n",
       "};\n",
       "\n",
       "if(typeof $3Dmolpromise === 'undefined') {\n",
       "$3Dmolpromise = null;\n",
       "  $3Dmolpromise = loadScriptAsync('https://cdnjs.cloudflare.com/ajax/libs/3Dmol/2.4.2/3Dmol-min.js');\n",
       "}\n",
       "\n",
       "var viewer_1735627562585616 = null;\n",
       "var warn = document.getElementById(\"3dmolwarning_1735627562585616\");\n",
       "if(warn) {\n",
       "    warn.parentNode.removeChild(warn);\n",
       "}\n",
       "$3Dmolpromise.then(function() {\n",
       "viewer_1735627562585616 = $3Dmol.createViewer(document.getElementById(\"3dmolviewer_1735627562585616\"),{backgroundColor:\"white\"});\n",
       "viewer_1735627562585616.addModel(\"\\n     RDKit          3D\\n\\n  5  4  0  0  0  0  0  0  0  0999 V2000\\n    1.4579    0.8505    0.0204 Cl  0  0  0  0  0  0  0  0  0  0  0  0\\n   -0.0002   -0.1479    0.0051 C   0  0  0  0  0  0  0  0  0  0  0  0\\n   -1.4558    0.8507   -0.0794 Cl  0  0  0  0  0  0  0  0  0  0  0  0\\n    0.0296   -0.8076   -0.8655 H   0  0  0  0  0  0  0  0  0  0  0  0\\n   -0.0315   -0.7456    0.9194 H   0  0  0  0  0  0  0  0  0  0  0  0\\n  1  2  1  0\\n  2  3  1  0\\n  2  4  1  0\\n  2  5  1  0\\nM  END\\n\");\n",
       "viewer_1735627562585616.setStyle({\"stick\": {}, \"sphere\": {\"scale\": 0.3}});\n",
       "viewer_1735627562585616.zoomTo();\n",
       "\tviewer_1735627562585616.zoomTo();\n",
       "viewer_1735627562585616.render();\n",
       "});\n",
       "</script>"
      ]
     },
     "metadata": {},
     "output_type": "display_data"
    },
    {
     "data": {
      "text/plain": [
       "<py3Dmol.view at 0x7b4f00374380>"
      ]
     },
     "execution_count": 4,
     "metadata": {},
     "output_type": "execute_result"
    }
   ],
   "source": [
    "import py3Dmol\n",
    "\n",
    "view = py3Dmol.view(\n",
    "    data=Chem.MolToMolBlock(mol),  # Convert the RDKit molecule for py3Dmol\n",
    "    style={\"stick\": {}, \"sphere\": {\"scale\": 0.3}}\n",
    ")\n",
    "view.zoomTo()"
   ]
  },
  {
   "cell_type": "code",
   "execution_count": 5,
   "id": "956edd78",
   "metadata": {},
   "outputs": [
    {
     "name": "stdout",
     "output_type": "stream",
     "text": [
      "3-Methylheptane CCCCC(C)CC\n",
      "Aspirin CC(=O)Oc1ccccc1C(O)=O\n",
      "Diethylsulfate CCO[S](=O)(=O)OCC\n",
      "Diethyl sulfate CCO[S](=O)(=O)OCC\n",
      "50-78-2 CC(=O)Oc1ccccc1C(O)=O\n",
      "Adamant Did not work\n"
     ]
    }
   ],
   "source": [
    "# Using the web interface of NIH to convert chemical IDs into SMILES\n",
    "from urllib.request import urlopen\n",
    "from urllib.parse import quote\n",
    "\n",
    "def CIRconvert(ids):\n",
    "    try:\n",
    "        url = 'http://cactus.nci.nih.gov/chemical/structure/' + quote(ids) + '/smiles'\n",
    "        ans = urlopen(url).read().decode('utf8')\n",
    "        return ans\n",
    "    except:\n",
    "        return 'Did not work'\n",
    "\n",
    "identifiers  = ['3-Methylheptane', 'Aspirin', 'Diethylsulfate', 'Diethyl sulfate', '50-78-2', 'Adamant']\n",
    "\n",
    "for ids in identifiers :\n",
    "    print(ids, CIRconvert(ids))"
   ]
  },
  {
   "cell_type": "code",
   "execution_count": 7,
   "id": "825de036",
   "metadata": {},
   "outputs": [
    {
     "data": {
      "application/3dmoljs_load.v0": "<div id=\"3dmolviewer_17356284125240717\"  style=\"position: relative; width: 640px; height: 480px;\">\n        <p id=\"3dmolwarning_17356284125240717\" style=\"background-color:#ffcccc;color:black\">3Dmol.js failed to load for some reason.  Please check your browser console for error messages.<br></p>\n        </div>\n<script>\n\nvar loadScriptAsync = function(uri){\n  return new Promise((resolve, reject) => {\n    //this is to ignore the existence of requirejs amd\n    var savedexports, savedmodule;\n    if (typeof exports !== 'undefined') savedexports = exports;\n    else exports = {}\n    if (typeof module !== 'undefined') savedmodule = module;\n    else module = {}\n\n    var tag = document.createElement('script');\n    tag.src = uri;\n    tag.async = true;\n    tag.onload = () => {\n        exports = savedexports;\n        module = savedmodule;\n        resolve();\n    };\n  var firstScriptTag = document.getElementsByTagName('script')[0];\n  firstScriptTag.parentNode.insertBefore(tag, firstScriptTag);\n});\n};\n\nif(typeof $3Dmolpromise === 'undefined') {\n$3Dmolpromise = null;\n  $3Dmolpromise = loadScriptAsync('https://cdnjs.cloudflare.com/ajax/libs/3Dmol/2.4.2/3Dmol-min.js');\n}\n\nvar viewer_17356284125240717 = null;\nvar warn = document.getElementById(\"3dmolwarning_17356284125240717\");\nif(warn) {\n    warn.parentNode.removeChild(warn);\n}\n$3Dmolpromise.then(function() {\nviewer_17356284125240717 = $3Dmol.createViewer(document.getElementById(\"3dmolviewer_17356284125240717\"),{backgroundColor:\"white\"});\nviewer_17356284125240717.addModel(\"\\n     RDKit          3D\\n\\n 21 21  0  0  0  0  0  0  0  0999 V2000\\n    3.3731    0.0918   -0.1890 C   0  0  0  0  0  0  0  0  0  0  0  0\\n    1.9885   -0.2185    0.2963 C   0  0  0  0  0  0  0  0  0  0  0  0\\n    1.7056   -0.4710    1.4600 O   0  0  0  0  0  0  0  0  0  0  0  0\\n    1.1165   -0.1823   -0.7852 O   0  0  0  0  0  0  0  0  0  0  0  0\\n   -0.2093   -0.4173   -0.4134 C   0  0  0  0  0  0  0  0  0  0  0  0\\n   -0.6833   -1.7206   -0.6088 C   0  0  0  0  0  0  0  0  0  0  0  0\\n   -2.0008   -2.0370   -0.2828 C   0  0  0  0  0  0  0  0  0  0  0  0\\n   -2.8458   -1.0532    0.2267 C   0  0  0  0  0  0  0  0  0  0  0  0\\n   -2.3756    0.2516    0.4027 C   0  0  0  0  0  0  0  0  0  0  0  0\\n   -1.0520    0.5903    0.0752 C   0  0  0  0  0  0  0  0  0  0  0  0\\n   -0.6614    2.0086    0.2728 C   0  0  0  0  0  0  0  0  0  0  0  0\\n    0.5507    2.3334   -0.2081 O   0  0  0  0  0  0  0  0  0  0  0  0\\n   -1.3599    2.8615    0.7935 O   0  0  0  0  0  0  0  0  0  0  0  0\\n    4.0616    0.0972    0.6609 H   0  0  0  0  0  0  0  0  0  0  0  0\\n    3.3906    1.0803   -0.6548 H   0  0  0  0  0  0  0  0  0  0  0  0\\n    3.6975   -0.6743   -0.8975 H   0  0  0  0  0  0  0  0  0  0  0  0\\n   -0.0248   -2.4890   -1.0047 H   0  0  0  0  0  0  0  0  0  0  0  0\\n   -2.3679   -3.0509   -0.4225 H   0  0  0  0  0  0  0  0  0  0  0  0\\n   -3.8731   -1.2985    0.4862 H   0  0  0  0  0  0  0  0  0  0  0  0\\n   -3.0530    1.0082    0.7963 H   0  0  0  0  0  0  0  0  0  0  0  0\\n    0.6227    3.2898   -0.0037 H   0  0  0  0  0  0  0  0  0  0  0  0\\n  1  2  1  0\\n  2  3  2  0\\n  2  4  1  0\\n  4  5  1  0\\n  5  6  2  0\\n  6  7  1  0\\n  7  8  2  0\\n  8  9  1  0\\n  9 10  2  0\\n 10 11  1  0\\n 11 12  1  0\\n 11 13  2  0\\n 10  5  1  0\\n  1 14  1  0\\n  1 15  1  0\\n  1 16  1  0\\n  6 17  1  0\\n  7 18  1  0\\n  8 19  1  0\\n  9 20  1  0\\n 12 21  1  0\\nM  END\\n\");\nviewer_17356284125240717.setStyle({\"stick\": {}, \"sphere\": {\"scale\": 0.3}});\nviewer_17356284125240717.zoomTo();\n\tviewer_17356284125240717.zoomTo();\nviewer_17356284125240717.render();\n});\n</script>",
      "text/html": [
       "<div id=\"3dmolviewer_17356284125240717\"  style=\"position: relative; width: 640px; height: 480px;\">\n",
       "        <p id=\"3dmolwarning_17356284125240717\" style=\"background-color:#ffcccc;color:black\">3Dmol.js failed to load for some reason.  Please check your browser console for error messages.<br></p>\n",
       "        </div>\n",
       "<script>\n",
       "\n",
       "var loadScriptAsync = function(uri){\n",
       "  return new Promise((resolve, reject) => {\n",
       "    //this is to ignore the existence of requirejs amd\n",
       "    var savedexports, savedmodule;\n",
       "    if (typeof exports !== 'undefined') savedexports = exports;\n",
       "    else exports = {}\n",
       "    if (typeof module !== 'undefined') savedmodule = module;\n",
       "    else module = {}\n",
       "\n",
       "    var tag = document.createElement('script');\n",
       "    tag.src = uri;\n",
       "    tag.async = true;\n",
       "    tag.onload = () => {\n",
       "        exports = savedexports;\n",
       "        module = savedmodule;\n",
       "        resolve();\n",
       "    };\n",
       "  var firstScriptTag = document.getElementsByTagName('script')[0];\n",
       "  firstScriptTag.parentNode.insertBefore(tag, firstScriptTag);\n",
       "});\n",
       "};\n",
       "\n",
       "if(typeof $3Dmolpromise === 'undefined') {\n",
       "$3Dmolpromise = null;\n",
       "  $3Dmolpromise = loadScriptAsync('https://cdnjs.cloudflare.com/ajax/libs/3Dmol/2.4.2/3Dmol-min.js');\n",
       "}\n",
       "\n",
       "var viewer_17356284125240717 = null;\n",
       "var warn = document.getElementById(\"3dmolwarning_17356284125240717\");\n",
       "if(warn) {\n",
       "    warn.parentNode.removeChild(warn);\n",
       "}\n",
       "$3Dmolpromise.then(function() {\n",
       "viewer_17356284125240717 = $3Dmol.createViewer(document.getElementById(\"3dmolviewer_17356284125240717\"),{backgroundColor:\"white\"});\n",
       "viewer_17356284125240717.addModel(\"\\n     RDKit          3D\\n\\n 21 21  0  0  0  0  0  0  0  0999 V2000\\n    3.3731    0.0918   -0.1890 C   0  0  0  0  0  0  0  0  0  0  0  0\\n    1.9885   -0.2185    0.2963 C   0  0  0  0  0  0  0  0  0  0  0  0\\n    1.7056   -0.4710    1.4600 O   0  0  0  0  0  0  0  0  0  0  0  0\\n    1.1165   -0.1823   -0.7852 O   0  0  0  0  0  0  0  0  0  0  0  0\\n   -0.2093   -0.4173   -0.4134 C   0  0  0  0  0  0  0  0  0  0  0  0\\n   -0.6833   -1.7206   -0.6088 C   0  0  0  0  0  0  0  0  0  0  0  0\\n   -2.0008   -2.0370   -0.2828 C   0  0  0  0  0  0  0  0  0  0  0  0\\n   -2.8458   -1.0532    0.2267 C   0  0  0  0  0  0  0  0  0  0  0  0\\n   -2.3756    0.2516    0.4027 C   0  0  0  0  0  0  0  0  0  0  0  0\\n   -1.0520    0.5903    0.0752 C   0  0  0  0  0  0  0  0  0  0  0  0\\n   -0.6614    2.0086    0.2728 C   0  0  0  0  0  0  0  0  0  0  0  0\\n    0.5507    2.3334   -0.2081 O   0  0  0  0  0  0  0  0  0  0  0  0\\n   -1.3599    2.8615    0.7935 O   0  0  0  0  0  0  0  0  0  0  0  0\\n    4.0616    0.0972    0.6609 H   0  0  0  0  0  0  0  0  0  0  0  0\\n    3.3906    1.0803   -0.6548 H   0  0  0  0  0  0  0  0  0  0  0  0\\n    3.6975   -0.6743   -0.8975 H   0  0  0  0  0  0  0  0  0  0  0  0\\n   -0.0248   -2.4890   -1.0047 H   0  0  0  0  0  0  0  0  0  0  0  0\\n   -2.3679   -3.0509   -0.4225 H   0  0  0  0  0  0  0  0  0  0  0  0\\n   -3.8731   -1.2985    0.4862 H   0  0  0  0  0  0  0  0  0  0  0  0\\n   -3.0530    1.0082    0.7963 H   0  0  0  0  0  0  0  0  0  0  0  0\\n    0.6227    3.2898   -0.0037 H   0  0  0  0  0  0  0  0  0  0  0  0\\n  1  2  1  0\\n  2  3  2  0\\n  2  4  1  0\\n  4  5  1  0\\n  5  6  2  0\\n  6  7  1  0\\n  7  8  2  0\\n  8  9  1  0\\n  9 10  2  0\\n 10 11  1  0\\n 11 12  1  0\\n 11 13  2  0\\n 10  5  1  0\\n  1 14  1  0\\n  1 15  1  0\\n  1 16  1  0\\n  6 17  1  0\\n  7 18  1  0\\n  8 19  1  0\\n  9 20  1  0\\n 12 21  1  0\\nM  END\\n\");\n",
       "viewer_17356284125240717.setStyle({\"stick\": {}, \"sphere\": {\"scale\": 0.3}});\n",
       "viewer_17356284125240717.zoomTo();\n",
       "\tviewer_17356284125240717.zoomTo();\n",
       "viewer_17356284125240717.render();\n",
       "});\n",
       "</script>"
      ]
     },
     "metadata": {},
     "output_type": "display_data"
    },
    {
     "data": {
      "text/plain": [
       "<py3Dmol.view at 0x7b4ee00c9850>"
      ]
     },
     "execution_count": 7,
     "metadata": {},
     "output_type": "execute_result"
    }
   ],
   "source": [
    "# usage case\n",
    "aspirin = CIRconvert('Aspirin')\n",
    "mol1 = Chem.MolFromSmiles(aspirin)  \n",
    "mol1 = Chem.AddHs(mol1)\n",
    "AllChem.EmbedMolecule(mol1)\n",
    "AllChem.MMFFOptimizeMolecule(mol1)\n",
    "Chem.MolToXYZFile(mol1,\"aspirin.xyz\")\n",
    "\n",
    "view = py3Dmol.view(\n",
    "    data=Chem.MolToMolBlock(mol1),  # Convert the RDKit molecule for py3Dmol\n",
    "    style={\"stick\": {}, \"sphere\": {\"scale\": 0.3}}\n",
    ")\n",
    "view.zoomTo()"
   ]
  },
  {
   "cell_type": "code",
   "execution_count": 9,
   "id": "10374023",
   "metadata": {},
   "outputs": [
    {
     "data": {
      "application/3dmoljs_load.v0": "<div id=\"3dmolviewer_17358057301694868\"  style=\"position: relative; width: 640px; height: 480px;\">\n        <p id=\"3dmolwarning_17358057301694868\" style=\"background-color:#ffcccc;color:black\">3Dmol.js failed to load for some reason.  Please check your browser console for error messages.<br></p>\n        </div>\n<script>\n\nvar loadScriptAsync = function(uri){\n  return new Promise((resolve, reject) => {\n    //this is to ignore the existence of requirejs amd\n    var savedexports, savedmodule;\n    if (typeof exports !== 'undefined') savedexports = exports;\n    else exports = {}\n    if (typeof module !== 'undefined') savedmodule = module;\n    else module = {}\n\n    var tag = document.createElement('script');\n    tag.src = uri;\n    tag.async = true;\n    tag.onload = () => {\n        exports = savedexports;\n        module = savedmodule;\n        resolve();\n    };\n  var firstScriptTag = document.getElementsByTagName('script')[0];\n  firstScriptTag.parentNode.insertBefore(tag, firstScriptTag);\n});\n};\n\nif(typeof $3Dmolpromise === 'undefined') {\n$3Dmolpromise = null;\n  $3Dmolpromise = loadScriptAsync('https://cdnjs.cloudflare.com/ajax/libs/3Dmol/2.4.2/3Dmol-min.js');\n}\n\nvar viewer_17358057301694868 = null;\nvar warn = document.getElementById(\"3dmolwarning_17358057301694868\");\nif(warn) {\n    warn.parentNode.removeChild(warn);\n}\n$3Dmolpromise.then(function() {\nviewer_17358057301694868 = $3Dmol.createViewer(document.getElementById(\"3dmolviewer_17358057301694868\"),{backgroundColor:\"white\"});\nviewer_17358057301694868.addModel(\"\\n     RDKit          3D\\n\\n 14 13  0  0  0  0  0  0  0  0999 V2000\\n    0.0799    1.1354   -1.3426 N   0  0  0  0  0  0  0  0  0  0  0  0\\n    0.2476    0.5172   -0.0019 C   0  0  1  0  0  0  0  0  0  0  0  0\\n   -1.1050    0.0360    0.5401 C   0  0  0  0  0  0  0  0  0  0  0  0\\n   -1.0396   -0.3519    2.3228 S   0  0  0  0  0  0  0  0  0  0  0  0\\n    1.3025   -0.5894   -0.1109 C   0  0  0  0  0  0  0  0  0  0  0  0\\n    0.8196   -1.8425   -0.1978 O   0  0  0  0  0  0  0  0  0  0  0  0\\n    2.5073   -0.3946   -0.2095 O   0  0  0  0  0  0  0  0  0  0  0  0\\n   -0.4595    1.9952   -1.2473 H   0  0  0  0  0  0  0  0  0  0  0  0\\n    1.0037    1.4223   -1.6760 H   0  0  0  0  0  0  0  0  0  0  0  0\\n    0.6570    1.2823    0.6700 H   0  0  0  0  0  0  0  0  0  0  0  0\\n   -1.4715   -0.8453    0.0034 H   0  0  0  0  0  0  0  0  0  0  0  0\\n   -1.8590    0.8227    0.4231 H   0  0  0  0  0  0  0  0  0  0  0  0\\n   -2.3020   -0.7939    2.4248 H   0  0  0  0  0  0  0  0  0  0  0  0\\n    1.6192   -2.3936   -0.3266 H   0  0  0  0  0  0  0  0  0  0  0  0\\n  1  2  1  0\\n  2  3  1  0\\n  3  4  1  0\\n  2  5  1  0\\n  5  6  1  0\\n  5  7  2  0\\n  1  8  1  0\\n  1  9  1  0\\n  2 10  1  1\\n  3 11  1  0\\n  3 12  1  0\\n  4 13  1  0\\n  6 14  1  0\\nM  END\\n\");\nviewer_17358057301694868.setStyle({\"stick\": {}, \"sphere\": {\"scale\": 0.3}});\nviewer_17358057301694868.zoomTo();\n\tviewer_17358057301694868.zoomTo();\nviewer_17358057301694868.render();\n});\n</script>",
      "text/html": [
       "<div id=\"3dmolviewer_17358057301694868\"  style=\"position: relative; width: 640px; height: 480px;\">\n",
       "        <p id=\"3dmolwarning_17358057301694868\" style=\"background-color:#ffcccc;color:black\">3Dmol.js failed to load for some reason.  Please check your browser console for error messages.<br></p>\n",
       "        </div>\n",
       "<script>\n",
       "\n",
       "var loadScriptAsync = function(uri){\n",
       "  return new Promise((resolve, reject) => {\n",
       "    //this is to ignore the existence of requirejs amd\n",
       "    var savedexports, savedmodule;\n",
       "    if (typeof exports !== 'undefined') savedexports = exports;\n",
       "    else exports = {}\n",
       "    if (typeof module !== 'undefined') savedmodule = module;\n",
       "    else module = {}\n",
       "\n",
       "    var tag = document.createElement('script');\n",
       "    tag.src = uri;\n",
       "    tag.async = true;\n",
       "    tag.onload = () => {\n",
       "        exports = savedexports;\n",
       "        module = savedmodule;\n",
       "        resolve();\n",
       "    };\n",
       "  var firstScriptTag = document.getElementsByTagName('script')[0];\n",
       "  firstScriptTag.parentNode.insertBefore(tag, firstScriptTag);\n",
       "});\n",
       "};\n",
       "\n",
       "if(typeof $3Dmolpromise === 'undefined') {\n",
       "$3Dmolpromise = null;\n",
       "  $3Dmolpromise = loadScriptAsync('https://cdnjs.cloudflare.com/ajax/libs/3Dmol/2.4.2/3Dmol-min.js');\n",
       "}\n",
       "\n",
       "var viewer_17358057301694868 = null;\n",
       "var warn = document.getElementById(\"3dmolwarning_17358057301694868\");\n",
       "if(warn) {\n",
       "    warn.parentNode.removeChild(warn);\n",
       "}\n",
       "$3Dmolpromise.then(function() {\n",
       "viewer_17358057301694868 = $3Dmol.createViewer(document.getElementById(\"3dmolviewer_17358057301694868\"),{backgroundColor:\"white\"});\n",
       "viewer_17358057301694868.addModel(\"\\n     RDKit          3D\\n\\n 14 13  0  0  0  0  0  0  0  0999 V2000\\n    0.0799    1.1354   -1.3426 N   0  0  0  0  0  0  0  0  0  0  0  0\\n    0.2476    0.5172   -0.0019 C   0  0  1  0  0  0  0  0  0  0  0  0\\n   -1.1050    0.0360    0.5401 C   0  0  0  0  0  0  0  0  0  0  0  0\\n   -1.0396   -0.3519    2.3228 S   0  0  0  0  0  0  0  0  0  0  0  0\\n    1.3025   -0.5894   -0.1109 C   0  0  0  0  0  0  0  0  0  0  0  0\\n    0.8196   -1.8425   -0.1978 O   0  0  0  0  0  0  0  0  0  0  0  0\\n    2.5073   -0.3946   -0.2095 O   0  0  0  0  0  0  0  0  0  0  0  0\\n   -0.4595    1.9952   -1.2473 H   0  0  0  0  0  0  0  0  0  0  0  0\\n    1.0037    1.4223   -1.6760 H   0  0  0  0  0  0  0  0  0  0  0  0\\n    0.6570    1.2823    0.6700 H   0  0  0  0  0  0  0  0  0  0  0  0\\n   -1.4715   -0.8453    0.0034 H   0  0  0  0  0  0  0  0  0  0  0  0\\n   -1.8590    0.8227    0.4231 H   0  0  0  0  0  0  0  0  0  0  0  0\\n   -2.3020   -0.7939    2.4248 H   0  0  0  0  0  0  0  0  0  0  0  0\\n    1.6192   -2.3936   -0.3266 H   0  0  0  0  0  0  0  0  0  0  0  0\\n  1  2  1  0\\n  2  3  1  0\\n  3  4  1  0\\n  2  5  1  0\\n  5  6  1  0\\n  5  7  2  0\\n  1  8  1  0\\n  1  9  1  0\\n  2 10  1  1\\n  3 11  1  0\\n  3 12  1  0\\n  4 13  1  0\\n  6 14  1  0\\nM  END\\n\");\n",
       "viewer_17358057301694868.setStyle({\"stick\": {}, \"sphere\": {\"scale\": 0.3}});\n",
       "viewer_17358057301694868.zoomTo();\n",
       "\tviewer_17358057301694868.zoomTo();\n",
       "viewer_17358057301694868.render();\n",
       "});\n",
       "</script>"
      ]
     },
     "metadata": {},
     "output_type": "display_data"
    },
    {
     "data": {
      "text/plain": [
       "<py3Dmol.view at 0x7b4ec7606c00>"
      ]
     },
     "execution_count": 9,
     "metadata": {},
     "output_type": "execute_result"
    }
   ],
   "source": [
    "cys = CIRconvert('cystein')\n",
    "mol2 = Chem.MolFromSmiles(cys)  \n",
    "mol2 = Chem.AddHs(mol2)\n",
    "AllChem.EmbedMolecule(mol2)\n",
    "AllChem.MMFFOptimizeMolecule(mol2)\n",
    "Chem.MolToXYZFile(mol1,\"cystein.xyz\")\n",
    "\n",
    "view = py3Dmol.view(\n",
    "    data=Chem.MolToMolBlock(mol2),  # Convert the RDKit molecule for py3Dmol\n",
    "    style={\"stick\": {}, \"sphere\": {\"scale\": 0.3}}\n",
    ")\n",
    "view.zoomTo()"
   ]
  },
  {
   "cell_type": "code",
   "execution_count": null,
   "id": "561eb663",
   "metadata": {},
   "outputs": [],
   "source": [
    "# Try to call a converer script in the STOUT env\n",
    "\n"
   ]
  }
 ],
 "metadata": {
  "kernelspec": {
   "display_name": "specai",
   "language": "python",
   "name": "specai"
  },
  "language_info": {
   "codemirror_mode": {
    "name": "ipython",
    "version": 3
   },
   "file_extension": ".py",
   "mimetype": "text/x-python",
   "name": "python",
   "nbconvert_exporter": "python",
   "pygments_lexer": "ipython3",
   "version": "3.12.3"
  }
 },
 "nbformat": 4,
 "nbformat_minor": 5
}
