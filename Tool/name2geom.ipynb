{
 "cells": [
  {
   "cell_type": "code",
   "execution_count": 14,
   "id": "525fc677",
   "metadata": {},
   "outputs": [],
   "source": [
    "import numpy as np\n",
    "import pandas as pd\n",
    "from rdkit import Chem\n",
    "from rdkit.Chem import AllChem\n",
    "\n",
    "mol = Chem.MolFromSmiles('ClCCl')  \n",
    "mol = Chem.AddHs(mol)\n",
    "AllChem.EmbedMolecule(mol)\n",
    "AllChem.MMFFOptimizeMolecule(mol)\n",
    "Chem.MolToXYZFile(mol,\"test.xyz\")"
   ]
  },
  {
   "cell_type": "code",
   "execution_count": 3,
   "id": "c908e5d9",
   "metadata": {},
   "outputs": [
    {
     "name": "stdout",
     "output_type": "stream",
     "text": [
      "5\r\n",
      "\r\n",
      "Cl     1.457915    0.850485    0.020384\r\n",
      "C     -0.000186   -0.147919    0.005132\r\n",
      "Cl    -1.455777    0.850685   -0.079399\r\n",
      "H      0.029585   -0.807624   -0.865497\r\n",
      "H     -0.031536   -0.745627    0.919381\r\n"
     ]
    }
   ],
   "source": [
    "! tail test.xyz"
   ]
  },
  {
   "cell_type": "code",
   "execution_count": 15,
   "id": "40818016",
   "metadata": {},
   "outputs": [
    {
     "data": {
      "application/3dmoljs_load.v0": "<div id=\"3dmolviewer_17363996109980447\"  style=\"position: relative; width: 640px; height: 480px;\">\n        <p id=\"3dmolwarning_17363996109980447\" style=\"background-color:#ffcccc;color:black\">3Dmol.js failed to load for some reason.  Please check your browser console for error messages.<br></p>\n        </div>\n<script>\n\nvar loadScriptAsync = function(uri){\n  return new Promise((resolve, reject) => {\n    //this is to ignore the existence of requirejs amd\n    var savedexports, savedmodule;\n    if (typeof exports !== 'undefined') savedexports = exports;\n    else exports = {}\n    if (typeof module !== 'undefined') savedmodule = module;\n    else module = {}\n\n    var tag = document.createElement('script');\n    tag.src = uri;\n    tag.async = true;\n    tag.onload = () => {\n        exports = savedexports;\n        module = savedmodule;\n        resolve();\n    };\n  var firstScriptTag = document.getElementsByTagName('script')[0];\n  firstScriptTag.parentNode.insertBefore(tag, firstScriptTag);\n});\n};\n\nif(typeof $3Dmolpromise === 'undefined') {\n$3Dmolpromise = null;\n  $3Dmolpromise = loadScriptAsync('https://cdnjs.cloudflare.com/ajax/libs/3Dmol/2.4.2/3Dmol-min.js');\n}\n\nvar viewer_17363996109980447 = null;\nvar warn = document.getElementById(\"3dmolwarning_17363996109980447\");\nif(warn) {\n    warn.parentNode.removeChild(warn);\n}\n$3Dmolpromise.then(function() {\nviewer_17363996109980447 = $3Dmol.createViewer(document.getElementById(\"3dmolviewer_17363996109980447\"),{backgroundColor:\"white\"});\nviewer_17363996109980447.addModel(\"\\n     RDKit          3D\\n\\n  5  4  0  0  0  0  0  0  0  0999 V2000\\n   -1.4483    0.8642   -0.0697 Cl  0  0  0  0  0  0  0  0  0  0  0  0\\n   -0.0016   -0.1476    0.0111 C   0  0  0  0  0  0  0  0  0  0  0  0\\n    1.4669    0.8332   -0.0577 Cl  0  0  0  0  0  0  0  0  0  0  0  0\\n   -0.0114   -0.7080    0.9491 H   0  0  0  0  0  0  0  0  0  0  0  0\\n   -0.0055   -0.8418   -0.8328 H   0  0  0  0  0  0  0  0  0  0  0  0\\n  1  2  1  0\\n  2  3  1  0\\n  2  4  1  0\\n  2  5  1  0\\nM  END\\n\");\nviewer_17363996109980447.setStyle({\"stick\": {}, \"sphere\": {\"scale\": 0.3}});\nviewer_17363996109980447.zoomTo();\n\tviewer_17363996109980447.zoomTo();\nviewer_17363996109980447.render();\n});\n</script>",
      "text/html": [
       "<div id=\"3dmolviewer_17363996109980447\"  style=\"position: relative; width: 640px; height: 480px;\">\n",
       "        <p id=\"3dmolwarning_17363996109980447\" style=\"background-color:#ffcccc;color:black\">3Dmol.js failed to load for some reason.  Please check your browser console for error messages.<br></p>\n",
       "        </div>\n",
       "<script>\n",
       "\n",
       "var loadScriptAsync = function(uri){\n",
       "  return new Promise((resolve, reject) => {\n",
       "    //this is to ignore the existence of requirejs amd\n",
       "    var savedexports, savedmodule;\n",
       "    if (typeof exports !== 'undefined') savedexports = exports;\n",
       "    else exports = {}\n",
       "    if (typeof module !== 'undefined') savedmodule = module;\n",
       "    else module = {}\n",
       "\n",
       "    var tag = document.createElement('script');\n",
       "    tag.src = uri;\n",
       "    tag.async = true;\n",
       "    tag.onload = () => {\n",
       "        exports = savedexports;\n",
       "        module = savedmodule;\n",
       "        resolve();\n",
       "    };\n",
       "  var firstScriptTag = document.getElementsByTagName('script')[0];\n",
       "  firstScriptTag.parentNode.insertBefore(tag, firstScriptTag);\n",
       "});\n",
       "};\n",
       "\n",
       "if(typeof $3Dmolpromise === 'undefined') {\n",
       "$3Dmolpromise = null;\n",
       "  $3Dmolpromise = loadScriptAsync('https://cdnjs.cloudflare.com/ajax/libs/3Dmol/2.4.2/3Dmol-min.js');\n",
       "}\n",
       "\n",
       "var viewer_17363996109980447 = null;\n",
       "var warn = document.getElementById(\"3dmolwarning_17363996109980447\");\n",
       "if(warn) {\n",
       "    warn.parentNode.removeChild(warn);\n",
       "}\n",
       "$3Dmolpromise.then(function() {\n",
       "viewer_17363996109980447 = $3Dmol.createViewer(document.getElementById(\"3dmolviewer_17363996109980447\"),{backgroundColor:\"white\"});\n",
       "viewer_17363996109980447.addModel(\"\\n     RDKit          3D\\n\\n  5  4  0  0  0  0  0  0  0  0999 V2000\\n   -1.4483    0.8642   -0.0697 Cl  0  0  0  0  0  0  0  0  0  0  0  0\\n   -0.0016   -0.1476    0.0111 C   0  0  0  0  0  0  0  0  0  0  0  0\\n    1.4669    0.8332   -0.0577 Cl  0  0  0  0  0  0  0  0  0  0  0  0\\n   -0.0114   -0.7080    0.9491 H   0  0  0  0  0  0  0  0  0  0  0  0\\n   -0.0055   -0.8418   -0.8328 H   0  0  0  0  0  0  0  0  0  0  0  0\\n  1  2  1  0\\n  2  3  1  0\\n  2  4  1  0\\n  2  5  1  0\\nM  END\\n\");\n",
       "viewer_17363996109980447.setStyle({\"stick\": {}, \"sphere\": {\"scale\": 0.3}});\n",
       "viewer_17363996109980447.zoomTo();\n",
       "\tviewer_17363996109980447.zoomTo();\n",
       "viewer_17363996109980447.render();\n",
       "});\n",
       "</script>"
      ]
     },
     "metadata": {},
     "output_type": "display_data"
    },
    {
     "data": {
      "text/plain": [
       "<py3Dmol.view at 0x7b4ec763f200>"
      ]
     },
     "execution_count": 15,
     "metadata": {},
     "output_type": "execute_result"
    }
   ],
   "source": [
    "import py3Dmol\n",
    "\n",
    "view = py3Dmol.view(\n",
    "    data=Chem.MolToMolBlock(mol),  # Convert the RDKit molecule for py3Dmol\n",
    "    style={\"stick\": {}, \"sphere\": {\"scale\": 0.3}}\n",
    ")\n",
    "view.zoomTo()"
   ]
  },
  {
   "cell_type": "code",
   "execution_count": 19,
   "id": "956edd78",
   "metadata": {},
   "outputs": [
    {
     "name": "stdout",
     "output_type": "stream",
     "text": [
      "3-Methylheptane Did not work\n",
      "Aspirin Did not work\n",
      "Diethylsulfate Did not work\n",
      "Diethyl sulfate Did not work\n",
      "50-78-2 Did not work\n",
      "Adamant Did not work\n"
     ]
    }
   ],
   "source": [
    "# Using the web interface of NIH to convert chemical IDs into SMILES\n",
    "from urllib.request import urlopen\n",
    "from urllib.parse import quote\n",
    "\n",
    "def CIRconvert(ids):\n",
    "    try:\n",
    "        url = 'http://cactus.nci.nih.gov/chemical/structure/' + quote(ids) + '/smiles'\n",
    "        ans = urlopen(url).read().decode('utf8')\n",
    "        return ans\n",
    "    except:\n",
    "        return 'Did not work'\n",
    "\n",
    "identifiers  = ['3-Methylheptane', 'Aspirin', 'Diethylsulfate', 'Diethyl sulfate', '50-78-2', 'Adamant']\n",
    "\n",
    "for ids in identifiers :\n",
    "    print(ids, CIRconvert(ids))"
   ]
  },
  {
   "cell_type": "code",
   "execution_count": 18,
   "id": "825de036",
   "metadata": {},
   "outputs": [
    {
     "name": "stderr",
     "output_type": "stream",
     "text": [
      "[13:18:12] SMILES Parse Error: syntax error while parsing: Did\n",
      "[13:18:12] SMILES Parse Error: check for mistakes around position 1:\n",
      "[13:18:12] Did\n",
      "[13:18:12] ^\n",
      "[13:18:12] SMILES Parse Error: Failed parsing SMILES 'Did' for input: 'Did'\n"
     ]
    },
    {
     "ename": "ArgumentError",
     "evalue": "Python argument types in\n    rdkit.Chem.rdmolops.AddHs(NoneType)\ndid not match C++ signature:\n    AddHs(RDKit::ROMol mol, bool explicitOnly=False, bool addCoords=False, boost::python::api::object onlyOnAtoms=None, bool addResidueInfo=False)",
     "output_type": "error",
     "traceback": [
      "\u001b[0;31m---------------------------------------------------------------------------\u001b[0m",
      "\u001b[0;31mArgumentError\u001b[0m                             Traceback (most recent call last)",
      "Cell \u001b[0;32mIn[18], line 4\u001b[0m\n\u001b[1;32m      2\u001b[0m aspirin \u001b[38;5;241m=\u001b[39m CIRconvert(\u001b[38;5;124m'\u001b[39m\u001b[38;5;124mAspirin\u001b[39m\u001b[38;5;124m'\u001b[39m)\n\u001b[1;32m      3\u001b[0m mol1 \u001b[38;5;241m=\u001b[39m Chem\u001b[38;5;241m.\u001b[39mMolFromSmiles(aspirin)  \n\u001b[0;32m----> 4\u001b[0m mol1 \u001b[38;5;241m=\u001b[39m Chem\u001b[38;5;241m.\u001b[39mAddHs(mol1)\n\u001b[1;32m      5\u001b[0m AllChem\u001b[38;5;241m.\u001b[39mEmbedMolecule(mol1)\n\u001b[1;32m      6\u001b[0m AllChem\u001b[38;5;241m.\u001b[39mMMFFOptimizeMolecule(mol1)\n",
      "\u001b[0;31mArgumentError\u001b[0m: Python argument types in\n    rdkit.Chem.rdmolops.AddHs(NoneType)\ndid not match C++ signature:\n    AddHs(RDKit::ROMol mol, bool explicitOnly=False, bool addCoords=False, boost::python::api::object onlyOnAtoms=None, bool addResidueInfo=False)"
     ]
    }
   ],
   "source": [
    "# usage case\n",
    "aspirin = CIRconvert('Aspirin')\n",
    "mol1 = Chem.MolFromSmiles(aspirin)  \n",
    "mol1 = Chem.AddHs(mol1)\n",
    "AllChem.EmbedMolecule(mol1)\n",
    "AllChem.MMFFOptimizeMolecule(mol1)\n",
    "Chem.MolToXYZFile(mol1,\"aspirin.xyz\")\n",
    "\n",
    "view = py3Dmol.view(\n",
    "    data=Chem.MolToMolBlock(mol1),  # Convert the RDKit molecule for py3Dmol\n",
    "    style={\"stick\": {}, \"sphere\": {\"scale\": 0.3}}\n",
    ")\n",
    "view.zoomTo()"
   ]
  },
  {
   "cell_type": "code",
   "execution_count": 9,
   "id": "10374023",
   "metadata": {
    "scrolled": false
   },
   "outputs": [
    {
     "data": {
      "application/3dmoljs_load.v0": "<div id=\"3dmolviewer_17358057301694868\"  style=\"position: relative; width: 640px; height: 480px;\">\n        <p id=\"3dmolwarning_17358057301694868\" style=\"background-color:#ffcccc;color:black\">3Dmol.js failed to load for some reason.  Please check your browser console for error messages.<br></p>\n        </div>\n<script>\n\nvar loadScriptAsync = function(uri){\n  return new Promise((resolve, reject) => {\n    //this is to ignore the existence of requirejs amd\n    var savedexports, savedmodule;\n    if (typeof exports !== 'undefined') savedexports = exports;\n    else exports = {}\n    if (typeof module !== 'undefined') savedmodule = module;\n    else module = {}\n\n    var tag = document.createElement('script');\n    tag.src = uri;\n    tag.async = true;\n    tag.onload = () => {\n        exports = savedexports;\n        module = savedmodule;\n        resolve();\n    };\n  var firstScriptTag = document.getElementsByTagName('script')[0];\n  firstScriptTag.parentNode.insertBefore(tag, firstScriptTag);\n});\n};\n\nif(typeof $3Dmolpromise === 'undefined') {\n$3Dmolpromise = null;\n  $3Dmolpromise = loadScriptAsync('https://cdnjs.cloudflare.com/ajax/libs/3Dmol/2.4.2/3Dmol-min.js');\n}\n\nvar viewer_17358057301694868 = null;\nvar warn = document.getElementById(\"3dmolwarning_17358057301694868\");\nif(warn) {\n    warn.parentNode.removeChild(warn);\n}\n$3Dmolpromise.then(function() {\nviewer_17358057301694868 = $3Dmol.createViewer(document.getElementById(\"3dmolviewer_17358057301694868\"),{backgroundColor:\"white\"});\nviewer_17358057301694868.addModel(\"\\n     RDKit          3D\\n\\n 14 13  0  0  0  0  0  0  0  0999 V2000\\n    0.0799    1.1354   -1.3426 N   0  0  0  0  0  0  0  0  0  0  0  0\\n    0.2476    0.5172   -0.0019 C   0  0  1  0  0  0  0  0  0  0  0  0\\n   -1.1050    0.0360    0.5401 C   0  0  0  0  0  0  0  0  0  0  0  0\\n   -1.0396   -0.3519    2.3228 S   0  0  0  0  0  0  0  0  0  0  0  0\\n    1.3025   -0.5894   -0.1109 C   0  0  0  0  0  0  0  0  0  0  0  0\\n    0.8196   -1.8425   -0.1978 O   0  0  0  0  0  0  0  0  0  0  0  0\\n    2.5073   -0.3946   -0.2095 O   0  0  0  0  0  0  0  0  0  0  0  0\\n   -0.4595    1.9952   -1.2473 H   0  0  0  0  0  0  0  0  0  0  0  0\\n    1.0037    1.4223   -1.6760 H   0  0  0  0  0  0  0  0  0  0  0  0\\n    0.6570    1.2823    0.6700 H   0  0  0  0  0  0  0  0  0  0  0  0\\n   -1.4715   -0.8453    0.0034 H   0  0  0  0  0  0  0  0  0  0  0  0\\n   -1.8590    0.8227    0.4231 H   0  0  0  0  0  0  0  0  0  0  0  0\\n   -2.3020   -0.7939    2.4248 H   0  0  0  0  0  0  0  0  0  0  0  0\\n    1.6192   -2.3936   -0.3266 H   0  0  0  0  0  0  0  0  0  0  0  0\\n  1  2  1  0\\n  2  3  1  0\\n  3  4  1  0\\n  2  5  1  0\\n  5  6  1  0\\n  5  7  2  0\\n  1  8  1  0\\n  1  9  1  0\\n  2 10  1  1\\n  3 11  1  0\\n  3 12  1  0\\n  4 13  1  0\\n  6 14  1  0\\nM  END\\n\");\nviewer_17358057301694868.setStyle({\"stick\": {}, \"sphere\": {\"scale\": 0.3}});\nviewer_17358057301694868.zoomTo();\n\tviewer_17358057301694868.zoomTo();\nviewer_17358057301694868.render();\n});\n</script>",
      "text/html": [
       "<div id=\"3dmolviewer_17358057301694868\"  style=\"position: relative; width: 640px; height: 480px;\">\n",
       "        <p id=\"3dmolwarning_17358057301694868\" style=\"background-color:#ffcccc;color:black\">3Dmol.js failed to load for some reason.  Please check your browser console for error messages.<br></p>\n",
       "        </div>\n",
       "<script>\n",
       "\n",
       "var loadScriptAsync = function(uri){\n",
       "  return new Promise((resolve, reject) => {\n",
       "    //this is to ignore the existence of requirejs amd\n",
       "    var savedexports, savedmodule;\n",
       "    if (typeof exports !== 'undefined') savedexports = exports;\n",
       "    else exports = {}\n",
       "    if (typeof module !== 'undefined') savedmodule = module;\n",
       "    else module = {}\n",
       "\n",
       "    var tag = document.createElement('script');\n",
       "    tag.src = uri;\n",
       "    tag.async = true;\n",
       "    tag.onload = () => {\n",
       "        exports = savedexports;\n",
       "        module = savedmodule;\n",
       "        resolve();\n",
       "    };\n",
       "  var firstScriptTag = document.getElementsByTagName('script')[0];\n",
       "  firstScriptTag.parentNode.insertBefore(tag, firstScriptTag);\n",
       "});\n",
       "};\n",
       "\n",
       "if(typeof $3Dmolpromise === 'undefined') {\n",
       "$3Dmolpromise = null;\n",
       "  $3Dmolpromise = loadScriptAsync('https://cdnjs.cloudflare.com/ajax/libs/3Dmol/2.4.2/3Dmol-min.js');\n",
       "}\n",
       "\n",
       "var viewer_17358057301694868 = null;\n",
       "var warn = document.getElementById(\"3dmolwarning_17358057301694868\");\n",
       "if(warn) {\n",
       "    warn.parentNode.removeChild(warn);\n",
       "}\n",
       "$3Dmolpromise.then(function() {\n",
       "viewer_17358057301694868 = $3Dmol.createViewer(document.getElementById(\"3dmolviewer_17358057301694868\"),{backgroundColor:\"white\"});\n",
       "viewer_17358057301694868.addModel(\"\\n     RDKit          3D\\n\\n 14 13  0  0  0  0  0  0  0  0999 V2000\\n    0.0799    1.1354   -1.3426 N   0  0  0  0  0  0  0  0  0  0  0  0\\n    0.2476    0.5172   -0.0019 C   0  0  1  0  0  0  0  0  0  0  0  0\\n   -1.1050    0.0360    0.5401 C   0  0  0  0  0  0  0  0  0  0  0  0\\n   -1.0396   -0.3519    2.3228 S   0  0  0  0  0  0  0  0  0  0  0  0\\n    1.3025   -0.5894   -0.1109 C   0  0  0  0  0  0  0  0  0  0  0  0\\n    0.8196   -1.8425   -0.1978 O   0  0  0  0  0  0  0  0  0  0  0  0\\n    2.5073   -0.3946   -0.2095 O   0  0  0  0  0  0  0  0  0  0  0  0\\n   -0.4595    1.9952   -1.2473 H   0  0  0  0  0  0  0  0  0  0  0  0\\n    1.0037    1.4223   -1.6760 H   0  0  0  0  0  0  0  0  0  0  0  0\\n    0.6570    1.2823    0.6700 H   0  0  0  0  0  0  0  0  0  0  0  0\\n   -1.4715   -0.8453    0.0034 H   0  0  0  0  0  0  0  0  0  0  0  0\\n   -1.8590    0.8227    0.4231 H   0  0  0  0  0  0  0  0  0  0  0  0\\n   -2.3020   -0.7939    2.4248 H   0  0  0  0  0  0  0  0  0  0  0  0\\n    1.6192   -2.3936   -0.3266 H   0  0  0  0  0  0  0  0  0  0  0  0\\n  1  2  1  0\\n  2  3  1  0\\n  3  4  1  0\\n  2  5  1  0\\n  5  6  1  0\\n  5  7  2  0\\n  1  8  1  0\\n  1  9  1  0\\n  2 10  1  1\\n  3 11  1  0\\n  3 12  1  0\\n  4 13  1  0\\n  6 14  1  0\\nM  END\\n\");\n",
       "viewer_17358057301694868.setStyle({\"stick\": {}, \"sphere\": {\"scale\": 0.3}});\n",
       "viewer_17358057301694868.zoomTo();\n",
       "\tviewer_17358057301694868.zoomTo();\n",
       "viewer_17358057301694868.render();\n",
       "});\n",
       "</script>"
      ]
     },
     "metadata": {},
     "output_type": "display_data"
    },
    {
     "data": {
      "text/plain": [
       "<py3Dmol.view at 0x7b4ec7606c00>"
      ]
     },
     "execution_count": 9,
     "metadata": {},
     "output_type": "execute_result"
    }
   ],
   "source": [
    "cys = CIRconvert('cystein')\n",
    "mol2 = Chem.MolFromSmiles(cys)  \n",
    "mol2 = Chem.AddHs(mol2)\n",
    "AllChem.EmbedMolecule(mol2)\n",
    "AllChem.MMFFOptimizeMolecule(mol2)\n",
    "Chem.MolToXYZFile(mol1,\"cystein.xyz\")\n",
    "\n",
    "view = py3Dmol.view(\n",
    "    data=Chem.MolToMolBlock(mol2),  # Convert the RDKit molecule for py3Dmol\n",
    "    style={\"stick\": {}, \"sphere\": {\"scale\": 0.3}}\n",
    ")\n",
    "view.zoomTo()"
   ]
  },
  {
   "cell_type": "code",
   "execution_count": 21,
   "id": "561eb663",
   "metadata": {},
   "outputs": [
    {
     "data": {
      "application/3dmoljs_load.v0": "<div id=\"3dmolviewer_17364100262554898\"  style=\"position: relative; width: 640px; height: 480px;\">\n        <p id=\"3dmolwarning_17364100262554898\" style=\"background-color:#ffcccc;color:black\">3Dmol.js failed to load for some reason.  Please check your browser console for error messages.<br></p>\n        </div>\n<script>\n\nvar loadScriptAsync = function(uri){\n  return new Promise((resolve, reject) => {\n    //this is to ignore the existence of requirejs amd\n    var savedexports, savedmodule;\n    if (typeof exports !== 'undefined') savedexports = exports;\n    else exports = {}\n    if (typeof module !== 'undefined') savedmodule = module;\n    else module = {}\n\n    var tag = document.createElement('script');\n    tag.src = uri;\n    tag.async = true;\n    tag.onload = () => {\n        exports = savedexports;\n        module = savedmodule;\n        resolve();\n    };\n  var firstScriptTag = document.getElementsByTagName('script')[0];\n  firstScriptTag.parentNode.insertBefore(tag, firstScriptTag);\n});\n};\n\nif(typeof $3Dmolpromise === 'undefined') {\n$3Dmolpromise = null;\n  $3Dmolpromise = loadScriptAsync('https://cdnjs.cloudflare.com/ajax/libs/3Dmol/2.4.2/3Dmol-min.js');\n}\n\nvar viewer_17364100262554898 = null;\nvar warn = document.getElementById(\"3dmolwarning_17364100262554898\");\nif(warn) {\n    warn.parentNode.removeChild(warn);\n}\n$3Dmolpromise.then(function() {\nviewer_17364100262554898 = $3Dmol.createViewer(document.getElementById(\"3dmolviewer_17364100262554898\"),{backgroundColor:\"white\"});\nviewer_17364100262554898.addModel(\"\\n     RDKit          3D\\n\\n 24 25  0  0  0  0  0  0  0  0999 V2000\\n    3.2655    0.2879    0.6002 C   0  0  0  0  0  0  0  0  0  0  0  0\\n    2.0588   -0.4827    0.4388 N   0  0  0  0  0  0  0  0  0  0  0  0\\n    1.9485   -1.8443    0.5415 C   0  0  0  0  0  0  0  0  0  0  0  0\\n    0.7097   -2.2482    0.3406 N   0  0  0  0  0  0  0  0  0  0  0  0\\n    0.0138   -1.1016    0.1028 C   0  0  0  0  0  0  0  0  0  0  0  0\\n    0.8132   -0.0004    0.1560 C   0  0  0  0  0  0  0  0  0  0  0  0\\n    0.3344    1.3207   -0.0559 C   0  0  0  0  0  0  0  0  0  0  0  0\\n    1.0636    2.3068   -0.0057 O   0  0  0  0  0  0  0  0  0  0  0  0\\n   -1.0372    1.3628   -0.3229 N   0  0  0  0  0  0  0  0  0  0  0  0\\n   -1.6483    2.6563   -0.5577 C   0  0  0  0  0  0  0  0  0  0  0  0\\n   -1.8976    0.2464   -0.3864 C   0  0  0  0  0  0  0  0  0  0  0  0\\n   -3.1001    0.3857   -0.6298 O   0  0  0  0  0  0  0  0  0  0  0  0\\n   -1.3308   -1.0089   -0.1635 N   0  0  0  0  0  0  0  0  0  0  0  0\\n   -2.1470   -2.2081   -0.2111 C   0  0  0  0  0  0  0  0  0  0  0  0\\n    3.1247    0.9857    1.4294 H   0  0  0  0  0  0  0  0  0  0  0  0\\n    3.4623    0.8257   -0.3305 H   0  0  0  0  0  0  0  0  0  0  0  0\\n    4.0997   -0.3830    0.8213 H   0  0  0  0  0  0  0  0  0  0  0  0\\n    2.7910   -2.4881    0.7616 H   0  0  0  0  0  0  0  0  0  0  0  0\\n   -0.9310    3.4783   -0.4948 H   0  0  0  0  0  0  0  0  0  0  0  0\\n   -2.4376    2.8167    0.1841 H   0  0  0  0  0  0  0  0  0  0  0  0\\n   -2.1043    2.6588   -1.5532 H   0  0  0  0  0  0  0  0  0  0  0  0\\n   -1.7613   -2.8723   -0.9910 H   0  0  0  0  0  0  0  0  0  0  0  0\\n   -3.1931   -1.9811   -0.4324 H   0  0  0  0  0  0  0  0  0  0  0  0\\n   -2.0969   -2.7132    0.7588 H   0  0  0  0  0  0  0  0  0  0  0  0\\n  1  2  1  0\\n  2  3  1  0\\n  3  4  2  0\\n  4  5  1  0\\n  5  6  2  0\\n  6  7  1  0\\n  7  8  2  0\\n  7  9  1  0\\n  9 10  1  0\\n  9 11  1  0\\n 11 12  2  0\\n 11 13  1  0\\n 13 14  1  0\\n  6  2  1  0\\n 13  5  1  0\\n  1 15  1  0\\n  1 16  1  0\\n  1 17  1  0\\n  3 18  1  0\\n 10 19  1  0\\n 10 20  1  0\\n 10 21  1  0\\n 14 22  1  0\\n 14 23  1  0\\n 14 24  1  0\\nM  END\\n\");\nviewer_17364100262554898.setStyle({\"stick\": {}, \"sphere\": {\"scale\": 0.3}});\nviewer_17364100262554898.zoomTo();\n\tviewer_17364100262554898.zoomTo();\nviewer_17364100262554898.render();\n});\n</script>",
      "text/html": [
       "<div id=\"3dmolviewer_17364100262554898\"  style=\"position: relative; width: 640px; height: 480px;\">\n",
       "        <p id=\"3dmolwarning_17364100262554898\" style=\"background-color:#ffcccc;color:black\">3Dmol.js failed to load for some reason.  Please check your browser console for error messages.<br></p>\n",
       "        </div>\n",
       "<script>\n",
       "\n",
       "var loadScriptAsync = function(uri){\n",
       "  return new Promise((resolve, reject) => {\n",
       "    //this is to ignore the existence of requirejs amd\n",
       "    var savedexports, savedmodule;\n",
       "    if (typeof exports !== 'undefined') savedexports = exports;\n",
       "    else exports = {}\n",
       "    if (typeof module !== 'undefined') savedmodule = module;\n",
       "    else module = {}\n",
       "\n",
       "    var tag = document.createElement('script');\n",
       "    tag.src = uri;\n",
       "    tag.async = true;\n",
       "    tag.onload = () => {\n",
       "        exports = savedexports;\n",
       "        module = savedmodule;\n",
       "        resolve();\n",
       "    };\n",
       "  var firstScriptTag = document.getElementsByTagName('script')[0];\n",
       "  firstScriptTag.parentNode.insertBefore(tag, firstScriptTag);\n",
       "});\n",
       "};\n",
       "\n",
       "if(typeof $3Dmolpromise === 'undefined') {\n",
       "$3Dmolpromise = null;\n",
       "  $3Dmolpromise = loadScriptAsync('https://cdnjs.cloudflare.com/ajax/libs/3Dmol/2.4.2/3Dmol-min.js');\n",
       "}\n",
       "\n",
       "var viewer_17364100262554898 = null;\n",
       "var warn = document.getElementById(\"3dmolwarning_17364100262554898\");\n",
       "if(warn) {\n",
       "    warn.parentNode.removeChild(warn);\n",
       "}\n",
       "$3Dmolpromise.then(function() {\n",
       "viewer_17364100262554898 = $3Dmol.createViewer(document.getElementById(\"3dmolviewer_17364100262554898\"),{backgroundColor:\"white\"});\n",
       "viewer_17364100262554898.addModel(\"\\n     RDKit          3D\\n\\n 24 25  0  0  0  0  0  0  0  0999 V2000\\n    3.2655    0.2879    0.6002 C   0  0  0  0  0  0  0  0  0  0  0  0\\n    2.0588   -0.4827    0.4388 N   0  0  0  0  0  0  0  0  0  0  0  0\\n    1.9485   -1.8443    0.5415 C   0  0  0  0  0  0  0  0  0  0  0  0\\n    0.7097   -2.2482    0.3406 N   0  0  0  0  0  0  0  0  0  0  0  0\\n    0.0138   -1.1016    0.1028 C   0  0  0  0  0  0  0  0  0  0  0  0\\n    0.8132   -0.0004    0.1560 C   0  0  0  0  0  0  0  0  0  0  0  0\\n    0.3344    1.3207   -0.0559 C   0  0  0  0  0  0  0  0  0  0  0  0\\n    1.0636    2.3068   -0.0057 O   0  0  0  0  0  0  0  0  0  0  0  0\\n   -1.0372    1.3628   -0.3229 N   0  0  0  0  0  0  0  0  0  0  0  0\\n   -1.6483    2.6563   -0.5577 C   0  0  0  0  0  0  0  0  0  0  0  0\\n   -1.8976    0.2464   -0.3864 C   0  0  0  0  0  0  0  0  0  0  0  0\\n   -3.1001    0.3857   -0.6298 O   0  0  0  0  0  0  0  0  0  0  0  0\\n   -1.3308   -1.0089   -0.1635 N   0  0  0  0  0  0  0  0  0  0  0  0\\n   -2.1470   -2.2081   -0.2111 C   0  0  0  0  0  0  0  0  0  0  0  0\\n    3.1247    0.9857    1.4294 H   0  0  0  0  0  0  0  0  0  0  0  0\\n    3.4623    0.8257   -0.3305 H   0  0  0  0  0  0  0  0  0  0  0  0\\n    4.0997   -0.3830    0.8213 H   0  0  0  0  0  0  0  0  0  0  0  0\\n    2.7910   -2.4881    0.7616 H   0  0  0  0  0  0  0  0  0  0  0  0\\n   -0.9310    3.4783   -0.4948 H   0  0  0  0  0  0  0  0  0  0  0  0\\n   -2.4376    2.8167    0.1841 H   0  0  0  0  0  0  0  0  0  0  0  0\\n   -2.1043    2.6588   -1.5532 H   0  0  0  0  0  0  0  0  0  0  0  0\\n   -1.7613   -2.8723   -0.9910 H   0  0  0  0  0  0  0  0  0  0  0  0\\n   -3.1931   -1.9811   -0.4324 H   0  0  0  0  0  0  0  0  0  0  0  0\\n   -2.0969   -2.7132    0.7588 H   0  0  0  0  0  0  0  0  0  0  0  0\\n  1  2  1  0\\n  2  3  1  0\\n  3  4  2  0\\n  4  5  1  0\\n  5  6  2  0\\n  6  7  1  0\\n  7  8  2  0\\n  7  9  1  0\\n  9 10  1  0\\n  9 11  1  0\\n 11 12  2  0\\n 11 13  1  0\\n 13 14  1  0\\n  6  2  1  0\\n 13  5  1  0\\n  1 15  1  0\\n  1 16  1  0\\n  1 17  1  0\\n  3 18  1  0\\n 10 19  1  0\\n 10 20  1  0\\n 10 21  1  0\\n 14 22  1  0\\n 14 23  1  0\\n 14 24  1  0\\nM  END\\n\");\n",
       "viewer_17364100262554898.setStyle({\"stick\": {}, \"sphere\": {\"scale\": 0.3}});\n",
       "viewer_17364100262554898.zoomTo();\n",
       "\tviewer_17364100262554898.zoomTo();\n",
       "viewer_17364100262554898.render();\n",
       "});\n",
       "</script>"
      ]
     },
     "metadata": {},
     "output_type": "display_data"
    },
    {
     "data": {
      "text/plain": [
       "<py3Dmol.view at 0x7b4ee006dc10>"
      ]
     },
     "execution_count": 21,
     "metadata": {},
     "output_type": "execute_result"
    }
   ],
   "source": [
    "# Try to call a converer script in the STOUT env\n",
    "\n",
    "name = \"1,3,7-trimethylpurine-2,6-dione\"\n",
    "\n",
    "proc = subprocess.Popen(['./stout_call.sh', name], stdout=subprocess.PIPE)\n",
    "smiles = (proc.stdout.read().decode(\"utf-8\")).rstrip('\\n')\n",
    "\n",
    "mol3 = Chem.MolFromSmiles(smiles)  \n",
    "mol3 = Chem.AddHs(mol3)\n",
    "AllChem.EmbedMolecule(mol3)\n",
    "AllChem.MMFFOptimizeMolecule(mol3)\n",
    "Chem.MolToXYZFile(mol3,\"TMPDO.xyz\")\n",
    "\n",
    "view = py3Dmol.view(\n",
    "    data=Chem.MolToMolBlock(mol3),  # Convert the RDKit molecule for py3Dmol\n",
    "    style={\"stick\": {}, \"sphere\": {\"scale\": 0.3}}\n",
    ")\n",
    "view.zoomTo()"
   ]
  },
  {
   "cell_type": "code",
   "execution_count": 22,
   "id": "91018bc1",
   "metadata": {},
   "outputs": [
    {
     "name": "stdout",
     "output_type": "stream",
     "text": [
      "/home/yzhang/Work/MGBig/Psi4Numpy\r\n"
     ]
    }
   ],
   "source": [
    "! pwd"
   ]
  },
  {
   "cell_type": "code",
   "execution_count": null,
   "id": "a76ed0c8",
   "metadata": {},
   "outputs": [],
   "source": []
  }
 ],
 "metadata": {
  "kernelspec": {
   "display_name": "specai",
   "language": "python",
   "name": "specai"
  },
  "language_info": {
   "codemirror_mode": {
    "name": "ipython",
    "version": 3
   },
   "file_extension": ".py",
   "mimetype": "text/x-python",
   "name": "python",
   "nbconvert_exporter": "python",
   "pygments_lexer": "ipython3",
   "version": "3.12.3"
  }
 },
 "nbformat": 4,
 "nbformat_minor": 5
}
