{
 "cells": [
  {
   "cell_type": "code",
   "execution_count": 1,
   "id": "525fc677",
   "metadata": {},
   "outputs": [],
   "source": [
    "import numpy as np\n",
    "import pandas as pd\n",
    "from rdkit import Chem\n",
    "from rdkit.Chem import AllChem\n",
    "\n",
    "mol = Chem.MolFromSmiles('ClCCl')  \n",
    "mol = Chem.AddHs(mol)\n",
    "AllChem.EmbedMolecule(mol)\n",
    "AllChem.MMFFOptimizeMolecule(mol)\n",
    "Chem.MolToXYZFile(mol,\"test.xyz\")"
   ]
  },
  {
   "cell_type": "code",
   "execution_count": 2,
   "id": "c908e5d9",
   "metadata": {},
   "outputs": [
    {
     "name": "stdout",
     "output_type": "stream",
     "text": [
      "5\r\n",
      "\r\n",
      "Cl     1.457915    0.850485    0.020384\r\n",
      "C     -0.000186   -0.147919    0.005132\r\n",
      "Cl    -1.455777    0.850685   -0.079399\r\n",
      "H      0.029585   -0.807624   -0.865497\r\n",
      "H     -0.031536   -0.745627    0.919381\r\n"
     ]
    }
   ],
   "source": [
    "! tail test.xyz"
   ]
  },
  {
   "cell_type": "code",
   "execution_count": 3,
   "id": "40818016",
   "metadata": {},
   "outputs": [
    {
     "data": {
      "application/3dmoljs_load.v0": "<div id=\"3dmolviewer_17398577054444888\"  style=\"position: relative; width: 640px; height: 480px;\">\n        <p id=\"3dmolwarning_17398577054444888\" style=\"background-color:#ffcccc;color:black\">3Dmol.js failed to load for some reason.  Please check your browser console for error messages.<br></p>\n        </div>\n<script>\n\nvar loadScriptAsync = function(uri){\n  return new Promise((resolve, reject) => {\n    //this is to ignore the existence of requirejs amd\n    var savedexports, savedmodule;\n    if (typeof exports !== 'undefined') savedexports = exports;\n    else exports = {}\n    if (typeof module !== 'undefined') savedmodule = module;\n    else module = {}\n\n    var tag = document.createElement('script');\n    tag.src = uri;\n    tag.async = true;\n    tag.onload = () => {\n        exports = savedexports;\n        module = savedmodule;\n        resolve();\n    };\n  var firstScriptTag = document.getElementsByTagName('script')[0];\n  firstScriptTag.parentNode.insertBefore(tag, firstScriptTag);\n});\n};\n\nif(typeof $3Dmolpromise === 'undefined') {\n$3Dmolpromise = null;\n  $3Dmolpromise = loadScriptAsync('https://cdnjs.cloudflare.com/ajax/libs/3Dmol/2.4.2/3Dmol-min.js');\n}\n\nvar viewer_17398577054444888 = null;\nvar warn = document.getElementById(\"3dmolwarning_17398577054444888\");\nif(warn) {\n    warn.parentNode.removeChild(warn);\n}\n$3Dmolpromise.then(function() {\nviewer_17398577054444888 = $3Dmol.createViewer(document.getElementById(\"3dmolviewer_17398577054444888\"),{backgroundColor:\"white\"});\nviewer_17398577054444888.addModel(\"\\n     RDKit          3D\\n\\n  5  4  0  0  0  0  0  0  0  0999 V2000\\n    1.4579    0.8505    0.0204 Cl  0  0  0  0  0  0  0  0  0  0  0  0\\n   -0.0002   -0.1479    0.0051 C   0  0  0  0  0  0  0  0  0  0  0  0\\n   -1.4558    0.8507   -0.0794 Cl  0  0  0  0  0  0  0  0  0  0  0  0\\n    0.0296   -0.8076   -0.8655 H   0  0  0  0  0  0  0  0  0  0  0  0\\n   -0.0315   -0.7456    0.9194 H   0  0  0  0  0  0  0  0  0  0  0  0\\n  1  2  1  0\\n  2  3  1  0\\n  2  4  1  0\\n  2  5  1  0\\nM  END\\n\");\nviewer_17398577054444888.setStyle({\"stick\": {}, \"sphere\": {\"scale\": 0.3}});\nviewer_17398577054444888.zoomTo();\n\tviewer_17398577054444888.zoomTo();\nviewer_17398577054444888.render();\n});\n</script>",
      "text/html": [
       "<div id=\"3dmolviewer_17398577054444888\"  style=\"position: relative; width: 640px; height: 480px;\">\n",
       "        <p id=\"3dmolwarning_17398577054444888\" style=\"background-color:#ffcccc;color:black\">3Dmol.js failed to load for some reason.  Please check your browser console for error messages.<br></p>\n",
       "        </div>\n",
       "<script>\n",
       "\n",
       "var loadScriptAsync = function(uri){\n",
       "  return new Promise((resolve, reject) => {\n",
       "    //this is to ignore the existence of requirejs amd\n",
       "    var savedexports, savedmodule;\n",
       "    if (typeof exports !== 'undefined') savedexports = exports;\n",
       "    else exports = {}\n",
       "    if (typeof module !== 'undefined') savedmodule = module;\n",
       "    else module = {}\n",
       "\n",
       "    var tag = document.createElement('script');\n",
       "    tag.src = uri;\n",
       "    tag.async = true;\n",
       "    tag.onload = () => {\n",
       "        exports = savedexports;\n",
       "        module = savedmodule;\n",
       "        resolve();\n",
       "    };\n",
       "  var firstScriptTag = document.getElementsByTagName('script')[0];\n",
       "  firstScriptTag.parentNode.insertBefore(tag, firstScriptTag);\n",
       "});\n",
       "};\n",
       "\n",
       "if(typeof $3Dmolpromise === 'undefined') {\n",
       "$3Dmolpromise = null;\n",
       "  $3Dmolpromise = loadScriptAsync('https://cdnjs.cloudflare.com/ajax/libs/3Dmol/2.4.2/3Dmol-min.js');\n",
       "}\n",
       "\n",
       "var viewer_17398577054444888 = null;\n",
       "var warn = document.getElementById(\"3dmolwarning_17398577054444888\");\n",
       "if(warn) {\n",
       "    warn.parentNode.removeChild(warn);\n",
       "}\n",
       "$3Dmolpromise.then(function() {\n",
       "viewer_17398577054444888 = $3Dmol.createViewer(document.getElementById(\"3dmolviewer_17398577054444888\"),{backgroundColor:\"white\"});\n",
       "viewer_17398577054444888.addModel(\"\\n     RDKit          3D\\n\\n  5  4  0  0  0  0  0  0  0  0999 V2000\\n    1.4579    0.8505    0.0204 Cl  0  0  0  0  0  0  0  0  0  0  0  0\\n   -0.0002   -0.1479    0.0051 C   0  0  0  0  0  0  0  0  0  0  0  0\\n   -1.4558    0.8507   -0.0794 Cl  0  0  0  0  0  0  0  0  0  0  0  0\\n    0.0296   -0.8076   -0.8655 H   0  0  0  0  0  0  0  0  0  0  0  0\\n   -0.0315   -0.7456    0.9194 H   0  0  0  0  0  0  0  0  0  0  0  0\\n  1  2  1  0\\n  2  3  1  0\\n  2  4  1  0\\n  2  5  1  0\\nM  END\\n\");\n",
       "viewer_17398577054444888.setStyle({\"stick\": {}, \"sphere\": {\"scale\": 0.3}});\n",
       "viewer_17398577054444888.zoomTo();\n",
       "\tviewer_17398577054444888.zoomTo();\n",
       "viewer_17398577054444888.render();\n",
       "});\n",
       "</script>"
      ]
     },
     "metadata": {},
     "output_type": "display_data"
    },
    {
     "data": {
      "text/plain": [
       "<py3Dmol.view at 0x7533160bf250>"
      ]
     },
     "execution_count": 3,
     "metadata": {},
     "output_type": "execute_result"
    }
   ],
   "source": [
    "import py3Dmol\n",
    "\n",
    "view = py3Dmol.view(\n",
    "    data=Chem.MolToMolBlock(mol),  # Convert the RDKit molecule for py3Dmol\n",
    "    style={\"stick\": {}, \"sphere\": {\"scale\": 0.3}}\n",
    ")\n",
    "view.zoomTo()"
   ]
  },
  {
   "cell_type": "code",
   "execution_count": 4,
   "id": "956edd78",
   "metadata": {},
   "outputs": [
    {
     "name": "stdout",
     "output_type": "stream",
     "text": [
      "3-Methylheptane CCCCC(C)CC\n",
      "Aspirin CC(=O)Oc1ccccc1C(O)=O\n",
      "Diethylsulfate CCO[S](=O)(=O)OCC\n",
      "Diethyl sulfate CCO[S](=O)(=O)OCC\n",
      "50-78-2 CC(=O)Oc1ccccc1C(O)=O\n",
      "Adamant Did not work\n"
     ]
    }
   ],
   "source": [
    "# Using the web interface of NIH to convert chemical IDs into SMILES\n",
    "from urllib.request import urlopen\n",
    "from urllib.parse import quote\n",
    "\n",
    "def CIRconvert(ids):\n",
    "    try:\n",
    "        url = 'http://cactus.nci.nih.gov/chemical/structure/' + quote(ids) + '/smiles'\n",
    "        ans = urlopen(url).read().decode('utf8')\n",
    "        return ans\n",
    "    except:\n",
    "        return 'Did not work'\n",
    "\n",
    "identifiers  = ['3-Methylheptane', 'Aspirin', 'Diethylsulfate', 'Diethyl sulfate', '50-78-2', 'Adamant']\n",
    "\n",
    "for ids in identifiers :\n",
    "    print(ids, CIRconvert(ids))"
   ]
  },
  {
   "cell_type": "code",
   "execution_count": 5,
   "id": "825de036",
   "metadata": {},
   "outputs": [
    {
     "data": {
      "application/3dmoljs_load.v0": "<div id=\"3dmolviewer_17398579051050358\"  style=\"position: relative; width: 640px; height: 480px;\">\n        <p id=\"3dmolwarning_17398579051050358\" style=\"background-color:#ffcccc;color:black\">3Dmol.js failed to load for some reason.  Please check your browser console for error messages.<br></p>\n        </div>\n<script>\n\nvar loadScriptAsync = function(uri){\n  return new Promise((resolve, reject) => {\n    //this is to ignore the existence of requirejs amd\n    var savedexports, savedmodule;\n    if (typeof exports !== 'undefined') savedexports = exports;\n    else exports = {}\n    if (typeof module !== 'undefined') savedmodule = module;\n    else module = {}\n\n    var tag = document.createElement('script');\n    tag.src = uri;\n    tag.async = true;\n    tag.onload = () => {\n        exports = savedexports;\n        module = savedmodule;\n        resolve();\n    };\n  var firstScriptTag = document.getElementsByTagName('script')[0];\n  firstScriptTag.parentNode.insertBefore(tag, firstScriptTag);\n});\n};\n\nif(typeof $3Dmolpromise === 'undefined') {\n$3Dmolpromise = null;\n  $3Dmolpromise = loadScriptAsync('https://cdnjs.cloudflare.com/ajax/libs/3Dmol/2.4.2/3Dmol-min.js');\n}\n\nvar viewer_17398579051050358 = null;\nvar warn = document.getElementById(\"3dmolwarning_17398579051050358\");\nif(warn) {\n    warn.parentNode.removeChild(warn);\n}\n$3Dmolpromise.then(function() {\nviewer_17398579051050358 = $3Dmol.createViewer(document.getElementById(\"3dmolviewer_17398579051050358\"),{backgroundColor:\"white\"});\nviewer_17398579051050358.addModel(\"\\n     RDKit          3D\\n\\n 21 21  0  0  0  0  0  0  0  0999 V2000\\n    3.3731    0.0918   -0.1890 C   0  0  0  0  0  0  0  0  0  0  0  0\\n    1.9885   -0.2185    0.2963 C   0  0  0  0  0  0  0  0  0  0  0  0\\n    1.7056   -0.4710    1.4600 O   0  0  0  0  0  0  0  0  0  0  0  0\\n    1.1165   -0.1823   -0.7852 O   0  0  0  0  0  0  0  0  0  0  0  0\\n   -0.2093   -0.4173   -0.4134 C   0  0  0  0  0  0  0  0  0  0  0  0\\n   -0.6833   -1.7206   -0.6088 C   0  0  0  0  0  0  0  0  0  0  0  0\\n   -2.0008   -2.0370   -0.2828 C   0  0  0  0  0  0  0  0  0  0  0  0\\n   -2.8458   -1.0532    0.2267 C   0  0  0  0  0  0  0  0  0  0  0  0\\n   -2.3756    0.2516    0.4027 C   0  0  0  0  0  0  0  0  0  0  0  0\\n   -1.0520    0.5903    0.0752 C   0  0  0  0  0  0  0  0  0  0  0  0\\n   -0.6614    2.0086    0.2728 C   0  0  0  0  0  0  0  0  0  0  0  0\\n    0.5507    2.3334   -0.2081 O   0  0  0  0  0  0  0  0  0  0  0  0\\n   -1.3599    2.8615    0.7935 O   0  0  0  0  0  0  0  0  0  0  0  0\\n    4.0616    0.0972    0.6609 H   0  0  0  0  0  0  0  0  0  0  0  0\\n    3.3906    1.0803   -0.6548 H   0  0  0  0  0  0  0  0  0  0  0  0\\n    3.6975   -0.6743   -0.8975 H   0  0  0  0  0  0  0  0  0  0  0  0\\n   -0.0248   -2.4890   -1.0047 H   0  0  0  0  0  0  0  0  0  0  0  0\\n   -2.3679   -3.0509   -0.4225 H   0  0  0  0  0  0  0  0  0  0  0  0\\n   -3.8731   -1.2985    0.4862 H   0  0  0  0  0  0  0  0  0  0  0  0\\n   -3.0530    1.0082    0.7963 H   0  0  0  0  0  0  0  0  0  0  0  0\\n    0.6227    3.2898   -0.0037 H   0  0  0  0  0  0  0  0  0  0  0  0\\n  1  2  1  0\\n  2  3  2  0\\n  2  4  1  0\\n  4  5  1  0\\n  5  6  2  0\\n  6  7  1  0\\n  7  8  2  0\\n  8  9  1  0\\n  9 10  2  0\\n 10 11  1  0\\n 11 12  1  0\\n 11 13  2  0\\n 10  5  1  0\\n  1 14  1  0\\n  1 15  1  0\\n  1 16  1  0\\n  6 17  1  0\\n  7 18  1  0\\n  8 19  1  0\\n  9 20  1  0\\n 12 21  1  0\\nM  END\\n\");\nviewer_17398579051050358.setStyle({\"stick\": {}, \"sphere\": {\"scale\": 0.3}});\nviewer_17398579051050358.zoomTo();\n\tviewer_17398579051050358.zoomTo();\nviewer_17398579051050358.render();\n});\n</script>",
      "text/html": [
       "<div id=\"3dmolviewer_17398579051050358\"  style=\"position: relative; width: 640px; height: 480px;\">\n",
       "        <p id=\"3dmolwarning_17398579051050358\" style=\"background-color:#ffcccc;color:black\">3Dmol.js failed to load for some reason.  Please check your browser console for error messages.<br></p>\n",
       "        </div>\n",
       "<script>\n",
       "\n",
       "var loadScriptAsync = function(uri){\n",
       "  return new Promise((resolve, reject) => {\n",
       "    //this is to ignore the existence of requirejs amd\n",
       "    var savedexports, savedmodule;\n",
       "    if (typeof exports !== 'undefined') savedexports = exports;\n",
       "    else exports = {}\n",
       "    if (typeof module !== 'undefined') savedmodule = module;\n",
       "    else module = {}\n",
       "\n",
       "    var tag = document.createElement('script');\n",
       "    tag.src = uri;\n",
       "    tag.async = true;\n",
       "    tag.onload = () => {\n",
       "        exports = savedexports;\n",
       "        module = savedmodule;\n",
       "        resolve();\n",
       "    };\n",
       "  var firstScriptTag = document.getElementsByTagName('script')[0];\n",
       "  firstScriptTag.parentNode.insertBefore(tag, firstScriptTag);\n",
       "});\n",
       "};\n",
       "\n",
       "if(typeof $3Dmolpromise === 'undefined') {\n",
       "$3Dmolpromise = null;\n",
       "  $3Dmolpromise = loadScriptAsync('https://cdnjs.cloudflare.com/ajax/libs/3Dmol/2.4.2/3Dmol-min.js');\n",
       "}\n",
       "\n",
       "var viewer_17398579051050358 = null;\n",
       "var warn = document.getElementById(\"3dmolwarning_17398579051050358\");\n",
       "if(warn) {\n",
       "    warn.parentNode.removeChild(warn);\n",
       "}\n",
       "$3Dmolpromise.then(function() {\n",
       "viewer_17398579051050358 = $3Dmol.createViewer(document.getElementById(\"3dmolviewer_17398579051050358\"),{backgroundColor:\"white\"});\n",
       "viewer_17398579051050358.addModel(\"\\n     RDKit          3D\\n\\n 21 21  0  0  0  0  0  0  0  0999 V2000\\n    3.3731    0.0918   -0.1890 C   0  0  0  0  0  0  0  0  0  0  0  0\\n    1.9885   -0.2185    0.2963 C   0  0  0  0  0  0  0  0  0  0  0  0\\n    1.7056   -0.4710    1.4600 O   0  0  0  0  0  0  0  0  0  0  0  0\\n    1.1165   -0.1823   -0.7852 O   0  0  0  0  0  0  0  0  0  0  0  0\\n   -0.2093   -0.4173   -0.4134 C   0  0  0  0  0  0  0  0  0  0  0  0\\n   -0.6833   -1.7206   -0.6088 C   0  0  0  0  0  0  0  0  0  0  0  0\\n   -2.0008   -2.0370   -0.2828 C   0  0  0  0  0  0  0  0  0  0  0  0\\n   -2.8458   -1.0532    0.2267 C   0  0  0  0  0  0  0  0  0  0  0  0\\n   -2.3756    0.2516    0.4027 C   0  0  0  0  0  0  0  0  0  0  0  0\\n   -1.0520    0.5903    0.0752 C   0  0  0  0  0  0  0  0  0  0  0  0\\n   -0.6614    2.0086    0.2728 C   0  0  0  0  0  0  0  0  0  0  0  0\\n    0.5507    2.3334   -0.2081 O   0  0  0  0  0  0  0  0  0  0  0  0\\n   -1.3599    2.8615    0.7935 O   0  0  0  0  0  0  0  0  0  0  0  0\\n    4.0616    0.0972    0.6609 H   0  0  0  0  0  0  0  0  0  0  0  0\\n    3.3906    1.0803   -0.6548 H   0  0  0  0  0  0  0  0  0  0  0  0\\n    3.6975   -0.6743   -0.8975 H   0  0  0  0  0  0  0  0  0  0  0  0\\n   -0.0248   -2.4890   -1.0047 H   0  0  0  0  0  0  0  0  0  0  0  0\\n   -2.3679   -3.0509   -0.4225 H   0  0  0  0  0  0  0  0  0  0  0  0\\n   -3.8731   -1.2985    0.4862 H   0  0  0  0  0  0  0  0  0  0  0  0\\n   -3.0530    1.0082    0.7963 H   0  0  0  0  0  0  0  0  0  0  0  0\\n    0.6227    3.2898   -0.0037 H   0  0  0  0  0  0  0  0  0  0  0  0\\n  1  2  1  0\\n  2  3  2  0\\n  2  4  1  0\\n  4  5  1  0\\n  5  6  2  0\\n  6  7  1  0\\n  7  8  2  0\\n  8  9  1  0\\n  9 10  2  0\\n 10 11  1  0\\n 11 12  1  0\\n 11 13  2  0\\n 10  5  1  0\\n  1 14  1  0\\n  1 15  1  0\\n  1 16  1  0\\n  6 17  1  0\\n  7 18  1  0\\n  8 19  1  0\\n  9 20  1  0\\n 12 21  1  0\\nM  END\\n\");\n",
       "viewer_17398579051050358.setStyle({\"stick\": {}, \"sphere\": {\"scale\": 0.3}});\n",
       "viewer_17398579051050358.zoomTo();\n",
       "\tviewer_17398579051050358.zoomTo();\n",
       "viewer_17398579051050358.render();\n",
       "});\n",
       "</script>"
      ]
     },
     "metadata": {},
     "output_type": "display_data"
    },
    {
     "data": {
      "text/plain": [
       "<py3Dmol.view at 0x753355199e10>"
      ]
     },
     "execution_count": 5,
     "metadata": {},
     "output_type": "execute_result"
    }
   ],
   "source": [
    "# usage case\n",
    "aspirin = CIRconvert('Aspirin')\n",
    "mol1 = Chem.MolFromSmiles(aspirin)  \n",
    "mol1 = Chem.AddHs(mol1)\n",
    "AllChem.EmbedMolecule(mol1)\n",
    "AllChem.MMFFOptimizeMolecule(mol1)\n",
    "Chem.MolToXYZFile(mol1,\"aspirin.xyz\")\n",
    "\n",
    "view = py3Dmol.view(\n",
    "    data=Chem.MolToMolBlock(mol1),  # Convert the RDKit molecule for py3Dmol\n",
    "    style={\"stick\": {}, \"sphere\": {\"scale\": 0.3}}\n",
    ")\n",
    "view.zoomTo()"
   ]
  },
  {
   "cell_type": "code",
   "execution_count": 6,
   "id": "10374023",
   "metadata": {
    "scrolled": false
   },
   "outputs": [
    {
     "data": {
      "application/3dmoljs_load.v0": "<div id=\"3dmolviewer_17398579152614026\"  style=\"position: relative; width: 640px; height: 480px;\">\n        <p id=\"3dmolwarning_17398579152614026\" style=\"background-color:#ffcccc;color:black\">3Dmol.js failed to load for some reason.  Please check your browser console for error messages.<br></p>\n        </div>\n<script>\n\nvar loadScriptAsync = function(uri){\n  return new Promise((resolve, reject) => {\n    //this is to ignore the existence of requirejs amd\n    var savedexports, savedmodule;\n    if (typeof exports !== 'undefined') savedexports = exports;\n    else exports = {}\n    if (typeof module !== 'undefined') savedmodule = module;\n    else module = {}\n\n    var tag = document.createElement('script');\n    tag.src = uri;\n    tag.async = true;\n    tag.onload = () => {\n        exports = savedexports;\n        module = savedmodule;\n        resolve();\n    };\n  var firstScriptTag = document.getElementsByTagName('script')[0];\n  firstScriptTag.parentNode.insertBefore(tag, firstScriptTag);\n});\n};\n\nif(typeof $3Dmolpromise === 'undefined') {\n$3Dmolpromise = null;\n  $3Dmolpromise = loadScriptAsync('https://cdnjs.cloudflare.com/ajax/libs/3Dmol/2.4.2/3Dmol-min.js');\n}\n\nvar viewer_17398579152614026 = null;\nvar warn = document.getElementById(\"3dmolwarning_17398579152614026\");\nif(warn) {\n    warn.parentNode.removeChild(warn);\n}\n$3Dmolpromise.then(function() {\nviewer_17398579152614026 = $3Dmol.createViewer(document.getElementById(\"3dmolviewer_17398579152614026\"),{backgroundColor:\"white\"});\nviewer_17398579152614026.addModel(\"\\n     RDKit          3D\\n\\n 14 13  0  0  0  0  0  0  0  0999 V2000\\n    0.0799    1.1354   -1.3426 N   0  0  0  0  0  0  0  0  0  0  0  0\\n    0.2476    0.5172   -0.0019 C   0  0  1  0  0  0  0  0  0  0  0  0\\n   -1.1050    0.0360    0.5401 C   0  0  0  0  0  0  0  0  0  0  0  0\\n   -1.0396   -0.3519    2.3228 S   0  0  0  0  0  0  0  0  0  0  0  0\\n    1.3025   -0.5894   -0.1109 C   0  0  0  0  0  0  0  0  0  0  0  0\\n    0.8196   -1.8425   -0.1978 O   0  0  0  0  0  0  0  0  0  0  0  0\\n    2.5073   -0.3946   -0.2095 O   0  0  0  0  0  0  0  0  0  0  0  0\\n   -0.4595    1.9952   -1.2473 H   0  0  0  0  0  0  0  0  0  0  0  0\\n    1.0037    1.4223   -1.6760 H   0  0  0  0  0  0  0  0  0  0  0  0\\n    0.6570    1.2823    0.6700 H   0  0  0  0  0  0  0  0  0  0  0  0\\n   -1.4715   -0.8453    0.0034 H   0  0  0  0  0  0  0  0  0  0  0  0\\n   -1.8590    0.8227    0.4231 H   0  0  0  0  0  0  0  0  0  0  0  0\\n   -2.3020   -0.7939    2.4248 H   0  0  0  0  0  0  0  0  0  0  0  0\\n    1.6192   -2.3936   -0.3266 H   0  0  0  0  0  0  0  0  0  0  0  0\\n  1  2  1  0\\n  2  3  1  0\\n  3  4  1  0\\n  2  5  1  0\\n  5  6  1  0\\n  5  7  2  0\\n  1  8  1  0\\n  1  9  1  0\\n  2 10  1  1\\n  3 11  1  0\\n  3 12  1  0\\n  4 13  1  0\\n  6 14  1  0\\nM  END\\n\");\nviewer_17398579152614026.setStyle({\"stick\": {}, \"sphere\": {\"scale\": 0.3}});\nviewer_17398579152614026.zoomTo();\n\tviewer_17398579152614026.zoomTo();\nviewer_17398579152614026.render();\n});\n</script>",
      "text/html": [
       "<div id=\"3dmolviewer_17398579152614026\"  style=\"position: relative; width: 640px; height: 480px;\">\n",
       "        <p id=\"3dmolwarning_17398579152614026\" style=\"background-color:#ffcccc;color:black\">3Dmol.js failed to load for some reason.  Please check your browser console for error messages.<br></p>\n",
       "        </div>\n",
       "<script>\n",
       "\n",
       "var loadScriptAsync = function(uri){\n",
       "  return new Promise((resolve, reject) => {\n",
       "    //this is to ignore the existence of requirejs amd\n",
       "    var savedexports, savedmodule;\n",
       "    if (typeof exports !== 'undefined') savedexports = exports;\n",
       "    else exports = {}\n",
       "    if (typeof module !== 'undefined') savedmodule = module;\n",
       "    else module = {}\n",
       "\n",
       "    var tag = document.createElement('script');\n",
       "    tag.src = uri;\n",
       "    tag.async = true;\n",
       "    tag.onload = () => {\n",
       "        exports = savedexports;\n",
       "        module = savedmodule;\n",
       "        resolve();\n",
       "    };\n",
       "  var firstScriptTag = document.getElementsByTagName('script')[0];\n",
       "  firstScriptTag.parentNode.insertBefore(tag, firstScriptTag);\n",
       "});\n",
       "};\n",
       "\n",
       "if(typeof $3Dmolpromise === 'undefined') {\n",
       "$3Dmolpromise = null;\n",
       "  $3Dmolpromise = loadScriptAsync('https://cdnjs.cloudflare.com/ajax/libs/3Dmol/2.4.2/3Dmol-min.js');\n",
       "}\n",
       "\n",
       "var viewer_17398579152614026 = null;\n",
       "var warn = document.getElementById(\"3dmolwarning_17398579152614026\");\n",
       "if(warn) {\n",
       "    warn.parentNode.removeChild(warn);\n",
       "}\n",
       "$3Dmolpromise.then(function() {\n",
       "viewer_17398579152614026 = $3Dmol.createViewer(document.getElementById(\"3dmolviewer_17398579152614026\"),{backgroundColor:\"white\"});\n",
       "viewer_17398579152614026.addModel(\"\\n     RDKit          3D\\n\\n 14 13  0  0  0  0  0  0  0  0999 V2000\\n    0.0799    1.1354   -1.3426 N   0  0  0  0  0  0  0  0  0  0  0  0\\n    0.2476    0.5172   -0.0019 C   0  0  1  0  0  0  0  0  0  0  0  0\\n   -1.1050    0.0360    0.5401 C   0  0  0  0  0  0  0  0  0  0  0  0\\n   -1.0396   -0.3519    2.3228 S   0  0  0  0  0  0  0  0  0  0  0  0\\n    1.3025   -0.5894   -0.1109 C   0  0  0  0  0  0  0  0  0  0  0  0\\n    0.8196   -1.8425   -0.1978 O   0  0  0  0  0  0  0  0  0  0  0  0\\n    2.5073   -0.3946   -0.2095 O   0  0  0  0  0  0  0  0  0  0  0  0\\n   -0.4595    1.9952   -1.2473 H   0  0  0  0  0  0  0  0  0  0  0  0\\n    1.0037    1.4223   -1.6760 H   0  0  0  0  0  0  0  0  0  0  0  0\\n    0.6570    1.2823    0.6700 H   0  0  0  0  0  0  0  0  0  0  0  0\\n   -1.4715   -0.8453    0.0034 H   0  0  0  0  0  0  0  0  0  0  0  0\\n   -1.8590    0.8227    0.4231 H   0  0  0  0  0  0  0  0  0  0  0  0\\n   -2.3020   -0.7939    2.4248 H   0  0  0  0  0  0  0  0  0  0  0  0\\n    1.6192   -2.3936   -0.3266 H   0  0  0  0  0  0  0  0  0  0  0  0\\n  1  2  1  0\\n  2  3  1  0\\n  3  4  1  0\\n  2  5  1  0\\n  5  6  1  0\\n  5  7  2  0\\n  1  8  1  0\\n  1  9  1  0\\n  2 10  1  1\\n  3 11  1  0\\n  3 12  1  0\\n  4 13  1  0\\n  6 14  1  0\\nM  END\\n\");\n",
       "viewer_17398579152614026.setStyle({\"stick\": {}, \"sphere\": {\"scale\": 0.3}});\n",
       "viewer_17398579152614026.zoomTo();\n",
       "\tviewer_17398579152614026.zoomTo();\n",
       "viewer_17398579152614026.render();\n",
       "});\n",
       "</script>"
      ]
     },
     "metadata": {},
     "output_type": "display_data"
    },
    {
     "data": {
      "text/plain": [
       "<py3Dmol.view at 0x7533160bf610>"
      ]
     },
     "execution_count": 6,
     "metadata": {},
     "output_type": "execute_result"
    }
   ],
   "source": [
    "cys = CIRconvert('cystein')\n",
    "mol2 = Chem.MolFromSmiles(cys)  \n",
    "mol2 = Chem.AddHs(mol2)\n",
    "AllChem.EmbedMolecule(mol2)\n",
    "AllChem.MMFFOptimizeMolecule(mol2)\n",
    "Chem.MolToXYZFile(mol1,\"cystein.xyz\")\n",
    "\n",
    "view = py3Dmol.view(\n",
    "    data=Chem.MolToMolBlock(mol2),  # Convert the RDKit molecule for py3Dmol\n",
    "    style={\"stick\": {}, \"sphere\": {\"scale\": 0.3}}\n",
    ")\n",
    "view.zoomTo()"
   ]
  },
  {
   "cell_type": "code",
   "execution_count": 8,
   "id": "561eb663",
   "metadata": {},
   "outputs": [
    {
     "data": {
      "application/3dmoljs_load.v0": "<div id=\"3dmolviewer_1739858109759489\"  style=\"position: relative; width: 640px; height: 480px;\">\n        <p id=\"3dmolwarning_1739858109759489\" style=\"background-color:#ffcccc;color:black\">3Dmol.js failed to load for some reason.  Please check your browser console for error messages.<br></p>\n        </div>\n<script>\n\nvar loadScriptAsync = function(uri){\n  return new Promise((resolve, reject) => {\n    //this is to ignore the existence of requirejs amd\n    var savedexports, savedmodule;\n    if (typeof exports !== 'undefined') savedexports = exports;\n    else exports = {}\n    if (typeof module !== 'undefined') savedmodule = module;\n    else module = {}\n\n    var tag = document.createElement('script');\n    tag.src = uri;\n    tag.async = true;\n    tag.onload = () => {\n        exports = savedexports;\n        module = savedmodule;\n        resolve();\n    };\n  var firstScriptTag = document.getElementsByTagName('script')[0];\n  firstScriptTag.parentNode.insertBefore(tag, firstScriptTag);\n});\n};\n\nif(typeof $3Dmolpromise === 'undefined') {\n$3Dmolpromise = null;\n  $3Dmolpromise = loadScriptAsync('https://cdnjs.cloudflare.com/ajax/libs/3Dmol/2.4.2/3Dmol-min.js');\n}\n\nvar viewer_1739858109759489 = null;\nvar warn = document.getElementById(\"3dmolwarning_1739858109759489\");\nif(warn) {\n    warn.parentNode.removeChild(warn);\n}\n$3Dmolpromise.then(function() {\nviewer_1739858109759489 = $3Dmol.createViewer(document.getElementById(\"3dmolviewer_1739858109759489\"),{backgroundColor:\"white\"});\nviewer_1739858109759489.addModel(\"\\n     RDKit          3D\\n\\n 24 25  0  0  0  0  0  0  0  0999 V2000\\n    3.2678    0.4711   -0.4543 C   0  0  0  0  0  0  0  0  0  0  0  0\\n    2.0752   -0.3364   -0.4945 N   0  0  0  0  0  0  0  0  0  0  0  0\\n    1.9953   -1.6417   -0.9027 C   0  0  0  0  0  0  0  0  0  0  0  0\\n    0.7623   -2.1015   -0.8227 N   0  0  0  0  0  0  0  0  0  0  0  0\\n    0.0386   -1.0498   -0.3474 C   0  0  0  0  0  0  0  0  0  0  0  0\\n    0.8154    0.0485   -0.1357 C   0  0  0  0  0  0  0  0  0  0  0  0\\n    0.3055    1.2797    0.3580 C   0  0  0  0  0  0  0  0  0  0  0  0\\n    1.0144    2.2640    0.5454 O   0  0  0  0  0  0  0  0  0  0  0  0\\n   -1.0707    1.2373    0.5999 N   0  0  0  0  0  0  0  0  0  0  0  0\\n   -1.7126    2.4342    1.1071 C   0  0  0  0  0  0  0  0  0  0  0  0\\n   -1.9082    0.1208    0.3936 C   0  0  0  0  0  0  0  0  0  0  0  0\\n   -3.1171    0.1813    0.6378 O   0  0  0  0  0  0  0  0  0  0  0  0\\n   -1.3116   -1.0423   -0.0942 N   0  0  0  0  0  0  0  0  0  0  0  0\\n   -2.1030   -2.2352   -0.3338 C   0  0  0  0  0  0  0  0  0  0  0  0\\n    4.1193   -0.1185   -0.8036 H   0  0  0  0  0  0  0  0  0  0  0  0\\n    3.4384    0.7889    0.5773 H   0  0  0  0  0  0  0  0  0  0  0  0\\n    3.1254    1.3352   -1.1081 H   0  0  0  0  0  0  0  0  0  0  0  0\\n    2.8545   -2.2049   -1.2449 H   0  0  0  0  0  0  0  0  0  0  0  0\\n   -2.1842    2.2047    2.0683 H   0  0  0  0  0  0  0  0  0  0  0  0\\n   -1.0119    3.2613    1.2450 H   0  0  0  0  0  0  0  0  0  0  0  0\\n   -2.4933    2.7440    0.4046 H   0  0  0  0  0  0  0  0  0  0  0  0\\n   -1.7157   -3.0512    0.2845 H   0  0  0  0  0  0  0  0  0  0  0  0\\n   -2.0270   -2.5080   -1.3912 H   0  0  0  0  0  0  0  0  0  0  0  0\\n   -3.1571   -2.0816   -0.0883 H   0  0  0  0  0  0  0  0  0  0  0  0\\n  1  2  1  0\\n  2  3  1  0\\n  3  4  2  0\\n  4  5  1  0\\n  5  6  2  0\\n  6  7  1  0\\n  7  8  2  0\\n  7  9  1  0\\n  9 10  1  0\\n  9 11  1  0\\n 11 12  2  0\\n 11 13  1  0\\n 13 14  1  0\\n  6  2  1  0\\n 13  5  1  0\\n  1 15  1  0\\n  1 16  1  0\\n  1 17  1  0\\n  3 18  1  0\\n 10 19  1  0\\n 10 20  1  0\\n 10 21  1  0\\n 14 22  1  0\\n 14 23  1  0\\n 14 24  1  0\\nM  END\\n\");\nviewer_1739858109759489.setStyle({\"stick\": {}, \"sphere\": {\"scale\": 0.3}});\nviewer_1739858109759489.zoomTo();\n\tviewer_1739858109759489.zoomTo();\nviewer_1739858109759489.render();\n});\n</script>",
      "text/html": [
       "<div id=\"3dmolviewer_1739858109759489\"  style=\"position: relative; width: 640px; height: 480px;\">\n",
       "        <p id=\"3dmolwarning_1739858109759489\" style=\"background-color:#ffcccc;color:black\">3Dmol.js failed to load for some reason.  Please check your browser console for error messages.<br></p>\n",
       "        </div>\n",
       "<script>\n",
       "\n",
       "var loadScriptAsync = function(uri){\n",
       "  return new Promise((resolve, reject) => {\n",
       "    //this is to ignore the existence of requirejs amd\n",
       "    var savedexports, savedmodule;\n",
       "    if (typeof exports !== 'undefined') savedexports = exports;\n",
       "    else exports = {}\n",
       "    if (typeof module !== 'undefined') savedmodule = module;\n",
       "    else module = {}\n",
       "\n",
       "    var tag = document.createElement('script');\n",
       "    tag.src = uri;\n",
       "    tag.async = true;\n",
       "    tag.onload = () => {\n",
       "        exports = savedexports;\n",
       "        module = savedmodule;\n",
       "        resolve();\n",
       "    };\n",
       "  var firstScriptTag = document.getElementsByTagName('script')[0];\n",
       "  firstScriptTag.parentNode.insertBefore(tag, firstScriptTag);\n",
       "});\n",
       "};\n",
       "\n",
       "if(typeof $3Dmolpromise === 'undefined') {\n",
       "$3Dmolpromise = null;\n",
       "  $3Dmolpromise = loadScriptAsync('https://cdnjs.cloudflare.com/ajax/libs/3Dmol/2.4.2/3Dmol-min.js');\n",
       "}\n",
       "\n",
       "var viewer_1739858109759489 = null;\n",
       "var warn = document.getElementById(\"3dmolwarning_1739858109759489\");\n",
       "if(warn) {\n",
       "    warn.parentNode.removeChild(warn);\n",
       "}\n",
       "$3Dmolpromise.then(function() {\n",
       "viewer_1739858109759489 = $3Dmol.createViewer(document.getElementById(\"3dmolviewer_1739858109759489\"),{backgroundColor:\"white\"});\n",
       "viewer_1739858109759489.addModel(\"\\n     RDKit          3D\\n\\n 24 25  0  0  0  0  0  0  0  0999 V2000\\n    3.2678    0.4711   -0.4543 C   0  0  0  0  0  0  0  0  0  0  0  0\\n    2.0752   -0.3364   -0.4945 N   0  0  0  0  0  0  0  0  0  0  0  0\\n    1.9953   -1.6417   -0.9027 C   0  0  0  0  0  0  0  0  0  0  0  0\\n    0.7623   -2.1015   -0.8227 N   0  0  0  0  0  0  0  0  0  0  0  0\\n    0.0386   -1.0498   -0.3474 C   0  0  0  0  0  0  0  0  0  0  0  0\\n    0.8154    0.0485   -0.1357 C   0  0  0  0  0  0  0  0  0  0  0  0\\n    0.3055    1.2797    0.3580 C   0  0  0  0  0  0  0  0  0  0  0  0\\n    1.0144    2.2640    0.5454 O   0  0  0  0  0  0  0  0  0  0  0  0\\n   -1.0707    1.2373    0.5999 N   0  0  0  0  0  0  0  0  0  0  0  0\\n   -1.7126    2.4342    1.1071 C   0  0  0  0  0  0  0  0  0  0  0  0\\n   -1.9082    0.1208    0.3936 C   0  0  0  0  0  0  0  0  0  0  0  0\\n   -3.1171    0.1813    0.6378 O   0  0  0  0  0  0  0  0  0  0  0  0\\n   -1.3116   -1.0423   -0.0942 N   0  0  0  0  0  0  0  0  0  0  0  0\\n   -2.1030   -2.2352   -0.3338 C   0  0  0  0  0  0  0  0  0  0  0  0\\n    4.1193   -0.1185   -0.8036 H   0  0  0  0  0  0  0  0  0  0  0  0\\n    3.4384    0.7889    0.5773 H   0  0  0  0  0  0  0  0  0  0  0  0\\n    3.1254    1.3352   -1.1081 H   0  0  0  0  0  0  0  0  0  0  0  0\\n    2.8545   -2.2049   -1.2449 H   0  0  0  0  0  0  0  0  0  0  0  0\\n   -2.1842    2.2047    2.0683 H   0  0  0  0  0  0  0  0  0  0  0  0\\n   -1.0119    3.2613    1.2450 H   0  0  0  0  0  0  0  0  0  0  0  0\\n   -2.4933    2.7440    0.4046 H   0  0  0  0  0  0  0  0  0  0  0  0\\n   -1.7157   -3.0512    0.2845 H   0  0  0  0  0  0  0  0  0  0  0  0\\n   -2.0270   -2.5080   -1.3912 H   0  0  0  0  0  0  0  0  0  0  0  0\\n   -3.1571   -2.0816   -0.0883 H   0  0  0  0  0  0  0  0  0  0  0  0\\n  1  2  1  0\\n  2  3  1  0\\n  3  4  2  0\\n  4  5  1  0\\n  5  6  2  0\\n  6  7  1  0\\n  7  8  2  0\\n  7  9  1  0\\n  9 10  1  0\\n  9 11  1  0\\n 11 12  2  0\\n 11 13  1  0\\n 13 14  1  0\\n  6  2  1  0\\n 13  5  1  0\\n  1 15  1  0\\n  1 16  1  0\\n  1 17  1  0\\n  3 18  1  0\\n 10 19  1  0\\n 10 20  1  0\\n 10 21  1  0\\n 14 22  1  0\\n 14 23  1  0\\n 14 24  1  0\\nM  END\\n\");\n",
       "viewer_1739858109759489.setStyle({\"stick\": {}, \"sphere\": {\"scale\": 0.3}});\n",
       "viewer_1739858109759489.zoomTo();\n",
       "\tviewer_1739858109759489.zoomTo();\n",
       "viewer_1739858109759489.render();\n",
       "});\n",
       "</script>"
      ]
     },
     "metadata": {},
     "output_type": "display_data"
    },
    {
     "data": {
      "text/plain": [
       "<py3Dmol.view at 0x7533551ca9e0>"
      ]
     },
     "execution_count": 8,
     "metadata": {},
     "output_type": "execute_result"
    }
   ],
   "source": [
    "# Try to call a converer script in the STOUT env\n",
    "import subprocess\n",
    "\n",
    "name = \"1,3,7-trimethylpurine-2,6-dione\"\n",
    "\n",
    "proc = subprocess.Popen(['./stout_call.sh', name], stdout=subprocess.PIPE)\n",
    "smiles = (proc.stdout.read().decode(\"utf-8\")).rstrip('\\n')\n",
    "\n",
    "mol3 = Chem.MolFromSmiles(smiles)  \n",
    "mol3 = Chem.AddHs(mol3)\n",
    "AllChem.EmbedMolecule(mol3)\n",
    "AllChem.MMFFOptimizeMolecule(mol3)\n",
    "Chem.MolToXYZFile(mol3,\"TMPDO.xyz\")\n",
    "\n",
    "view = py3Dmol.view(\n",
    "    data=Chem.MolToMolBlock(mol3),  # Convert the RDKit molecule for py3Dmol\n",
    "    style={\"stick\": {}, \"sphere\": {\"scale\": 0.3}}\n",
    ")\n",
    "view.zoomTo()"
   ]
  },
  {
   "cell_type": "code",
   "execution_count": 22,
   "id": "91018bc1",
   "metadata": {},
   "outputs": [
    {
     "name": "stdout",
     "output_type": "stream",
     "text": [
      "/home/yzhang/Work/MGBig/Psi4Numpy\r\n"
     ]
    }
   ],
   "source": [
    "! pwd"
   ]
  },
  {
   "cell_type": "code",
   "execution_count": null,
   "id": "a76ed0c8",
   "metadata": {},
   "outputs": [],
   "source": []
  }
 ],
 "metadata": {
  "kernelspec": {
   "display_name": "specai",
   "language": "python",
   "name": "specai"
  },
  "language_info": {
   "codemirror_mode": {
    "name": "ipython",
    "version": 3
   },
   "file_extension": ".py",
   "mimetype": "text/x-python",
   "name": "python",
   "nbconvert_exporter": "python",
   "pygments_lexer": "ipython3",
   "version": "3.10.16"
  }
 },
 "nbformat": 4,
 "nbformat_minor": 5
}
